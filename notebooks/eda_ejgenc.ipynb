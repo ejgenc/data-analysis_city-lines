{
 "cells": [
  {
   "cell_type": "markdown",
   "id": "8e6df0e3",
   "metadata": {},
   "source": [
    "# Exploratory Data Analysis\n",
    "\n",
    "This notebook is used to conduct exploratory data analysis on the \"station_lines\", \"systems\", \"tracks\" and \"track_lines\" tables of the \"city-lines\" dataset with the goal of uncovering data quality issues."
   ]
  },
  {
   "cell_type": "markdown",
   "id": "bc5bcefd",
   "metadata": {},
   "source": [
    "## Setup"
   ]
  },
  {
   "cell_type": "markdown",
   "id": "37859812",
   "metadata": {},
   "source": [
    "### Import required packages"
   ]
  },
  {
   "cell_type": "code",
   "execution_count": 29,
   "id": "e8fcb981",
   "metadata": {},
   "outputs": [
    {
     "ename": "ModuleNotFoundError",
     "evalue": "No module named 'geopandas'",
     "output_type": "error",
     "traceback": [
      "\u001b[1;31m---------------------------------------------------------------------------\u001b[0m",
      "\u001b[1;31mModuleNotFoundError\u001b[0m                       Traceback (most recent call last)",
      "\u001b[1;32m~\\AppData\\Local\\Temp/ipykernel_6196/434809422.py\u001b[0m in \u001b[0;36m<module>\u001b[1;34m\u001b[0m\n\u001b[0;32m      3\u001b[0m \u001b[1;32mimport\u001b[0m \u001b[0mnumpy\u001b[0m \u001b[1;32mas\u001b[0m \u001b[0mnp\u001b[0m\u001b[1;33m\u001b[0m\u001b[1;33m\u001b[0m\u001b[0m\n\u001b[0;32m      4\u001b[0m \u001b[1;32mimport\u001b[0m \u001b[0mpandas\u001b[0m \u001b[1;32mas\u001b[0m \u001b[0mpd\u001b[0m\u001b[1;33m\u001b[0m\u001b[1;33m\u001b[0m\u001b[0m\n\u001b[1;32m----> 5\u001b[1;33m \u001b[1;32mimport\u001b[0m \u001b[0mgeopandas\u001b[0m \u001b[1;32mas\u001b[0m \u001b[0mgpd\u001b[0m\u001b[1;33m\u001b[0m\u001b[1;33m\u001b[0m\u001b[0m\n\u001b[0m",
      "\u001b[1;31mModuleNotFoundError\u001b[0m: No module named 'geopandas'"
     ]
    }
   ],
   "source": [
    "from pathlib import Path\n",
    "import mysql.connector as connector\n",
    "import numpy as np\n",
    "import pandas as pd"
   ]
  },
  {
   "cell_type": "markdown",
   "id": "32a9758a",
   "metadata": {},
   "source": [
    "### Set credentials & establish connection with the database"
   ]
  },
  {
   "cell_type": "code",
   "execution_count": 2,
   "id": "855041b5",
   "metadata": {},
   "outputs": [
    {
     "data": {
      "text/html": [
       "<div>\n",
       "<style scoped>\n",
       "    .dataframe tbody tr th:only-of-type {\n",
       "        vertical-align: middle;\n",
       "    }\n",
       "\n",
       "    .dataframe tbody tr th {\n",
       "        vertical-align: top;\n",
       "    }\n",
       "\n",
       "    .dataframe thead th {\n",
       "        text-align: right;\n",
       "    }\n",
       "</style>\n",
       "<table border=\"1\" class=\"dataframe\">\n",
       "  <thead>\n",
       "    <tr style=\"text-align: right;\">\n",
       "      <th></th>\n",
       "      <th>Tables_in_city-lines</th>\n",
       "    </tr>\n",
       "  </thead>\n",
       "  <tbody>\n",
       "    <tr>\n",
       "      <th>0</th>\n",
       "      <td>cities</td>\n",
       "    </tr>\n",
       "    <tr>\n",
       "      <th>1</th>\n",
       "      <td>lines</td>\n",
       "    </tr>\n",
       "    <tr>\n",
       "      <th>2</th>\n",
       "      <td>station_lines</td>\n",
       "    </tr>\n",
       "    <tr>\n",
       "      <th>3</th>\n",
       "      <td>stations</td>\n",
       "    </tr>\n",
       "    <tr>\n",
       "      <th>4</th>\n",
       "      <td>systems</td>\n",
       "    </tr>\n",
       "    <tr>\n",
       "      <th>5</th>\n",
       "      <td>track_lines</td>\n",
       "    </tr>\n",
       "    <tr>\n",
       "      <th>6</th>\n",
       "      <td>tracks</td>\n",
       "    </tr>\n",
       "  </tbody>\n",
       "</table>\n",
       "</div>"
      ],
      "text/plain": [
       "  Tables_in_city-lines\n",
       "0               cities\n",
       "1                lines\n",
       "2        station_lines\n",
       "3             stations\n",
       "4              systems\n",
       "5          track_lines\n",
       "6               tracks"
      ]
     },
     "execution_count": 2,
     "metadata": {},
     "output_type": "execute_result"
    }
   ],
   "source": [
    "credentials = {\n",
    "    \"username\": \"root\",\n",
    "    \"password\": \"\"\n",
    "}\n",
    "\n",
    "# Establish a connection with the DBMS\n",
    "conn = connector.connect(user = credentials[\"username\"],\n",
    "                         passwd = credentials[\"password\"],\n",
    "                         host = \"localhost\",\n",
    "                         database = \"city-lines\")\n",
    "\n",
    "# Check if the connection is there\n",
    "sql_query = \"\"\"\n",
    "SHOW tables;\n",
    "\"\"\"\n",
    "df = pd.read_sql(sql_query, conn)\n",
    "df"
   ]
  },
  {
   "cell_type": "markdown",
   "id": "ec7ae40e",
   "metadata": {},
   "source": [
    "### Load data"
   ]
  },
  {
   "cell_type": "code",
   "execution_count": 3,
   "id": "c298e101",
   "metadata": {},
   "outputs": [],
   "source": [
    "tables = {}\n",
    "for table_name in [\"station_lines\", \"systems\", \"tracks\", \"track_lines\"]:\n",
    "    sql_query = \"SELECT * FROM {}\".format(table_name)\n",
    "    tables[table_name] = pd.read_sql(sql_query, conn)"
   ]
  },
  {
   "cell_type": "markdown",
   "id": "fd86196f",
   "metadata": {},
   "source": [
    "## Analyze - 'station_lines' table"
   ]
  },
  {
   "cell_type": "markdown",
   "id": "d9db1791",
   "metadata": {},
   "source": [
    "### Whole table"
   ]
  },
  {
   "cell_type": "code",
   "execution_count": 4,
   "id": "5e649213",
   "metadata": {},
   "outputs": [
    {
     "name": "stdout",
     "output_type": "stream",
     "text": [
      "   id  station_id  line_id  city_id           created_at           updated_at\n",
      "0   1        7694      629      114  2017-11-21 00:00:00  2017-11-21 00:00:00\n",
      "1   2        6003      528       29  2017-11-21 00:00:00  2017-11-21 00:00:00\n",
      "2   3        7732      570       74  2017-11-21 00:00:00  2017-11-21 00:00:00\n",
      "3   4        7695      629      114  2017-11-21 00:00:00  2017-11-21 00:00:00\n",
      "4   5        7726      570       74  2017-11-21 00:00:00  2017-11-21 00:00:00\n",
      "\n",
      "\n",
      "<class 'pandas.core.frame.DataFrame'>\n",
      "RangeIndex: 16242 entries, 0 to 16241\n",
      "Data columns (total 6 columns):\n",
      " #   Column      Non-Null Count  Dtype \n",
      "---  ------      --------------  ----- \n",
      " 0   id          16242 non-null  int64 \n",
      " 1   station_id  16242 non-null  int64 \n",
      " 2   line_id     16242 non-null  int64 \n",
      " 3   city_id     16242 non-null  int64 \n",
      " 4   created_at  16242 non-null  object\n",
      " 5   updated_at  16242 non-null  object\n",
      "dtypes: int64(4), object(2)\n",
      "memory usage: 761.5+ KB\n",
      "None\n"
     ]
    }
   ],
   "source": [
    "df = tables[\"station_lines\"]\n",
    "\n",
    "# Take a look at the head of the data\n",
    "print(df.head(5))\n",
    "print(\"\\n\")\n",
    "# Generate a metadata report\n",
    "print(df.info())"
   ]
  },
  {
   "cell_type": "markdown",
   "id": "bbbbce0a",
   "metadata": {},
   "source": [
    "#### Table purpose and explanation\n",
    "This table seems to be a 'relationship relation' table that lays out which stations lie on which lines. Inversely, it can also be used to represent the lines that pass from a station. It can also be linked to individual cities.\n",
    "\n",
    "#### Summary\n",
    "\n",
    "The \"station_lines\" table consists of six columns and 16242 rows. None of the rows have any null values, which is a good indicator. The first four columns (id, station_id, line_id and city_id) have the NumPy data type 'int64'. This makes sense as these are id's and id's are usually discrete numbers. This also means that id's are numeric only - no letters or markings at all. The last two columns (created_at and updated_at) show up as NumPy 'object' data type. This can mean anything.\n",
    "\n",
    "#### Potential problems\n",
    "\n",
    "- As the name of 'created_at' and 'updated_at' column suggests, these columns  were supposed to be 'time and date' data types. They did not show up in Pandas as such. This might be a problem while analyzing the data.\n"
   ]
  },
  {
   "cell_type": "markdown",
   "id": "9ec85598",
   "metadata": {},
   "source": [
    "### 'station_id' column"
   ]
  },
  {
   "cell_type": "code",
   "execution_count": 5,
   "id": "0202388f",
   "metadata": {},
   "outputs": [
    {
     "name": "stdout",
     "output_type": "stream",
     "text": [
      "15468\n",
      "\n",
      "\n",
      "11422    7\n",
      "11258    6\n",
      "10940    6\n",
      "11049    6\n",
      "11048    6\n",
      "        ..\n",
      "2308     1\n",
      "2347     1\n",
      "2309     1\n",
      "2336     1\n",
      "16558    1\n",
      "Name: station_id, Length: 15468, dtype: int64\n"
     ]
    }
   ],
   "source": [
    "target_col = df[\"station_id\"]\n",
    "\n",
    "# Number of unique values, what they are and how many times they appear\n",
    "print(target_col.nunique()) # 15468 unique values\n",
    "print(\"\\n\")\n",
    "print(target_col.value_counts())"
   ]
  },
  {
   "cell_type": "code",
   "execution_count": 6,
   "id": "464f7c95",
   "metadata": {},
   "outputs": [
    {
     "name": "stdout",
     "output_type": "stream",
     "text": [
      "       station_id\n",
      "count            \n",
      "1           14851\n",
      "2             502\n",
      "3              91\n",
      "4              13\n",
      "5               5\n",
      "6               5\n",
      "7               1\n"
     ]
    }
   ],
   "source": [
    "# What about the inverse, how many stations appear 7 times, 6 times ... 1 times etc.\n",
    "result = (pd.DataFrame(target_col.value_counts())\n",
    "          .rename({\"station_id\": \"count\"}, axis = 1))\n",
    "result[\"station_id\"] = result.index\n",
    "result = (result\n",
    "          .reset_index(drop = True)\n",
    "          .groupby(\"count\")\n",
    "          .agg(\"count\"))\n",
    "\n",
    "print(result)"
   ]
  },
  {
   "cell_type": "code",
   "execution_count": 7,
   "id": "06dc37bc",
   "metadata": {},
   "outputs": [
    {
     "name": "stdout",
     "output_type": "stream",
     "text": [
      "1 16558\n"
     ]
    }
   ],
   "source": [
    "# min and max of the column\n",
    "print(target_col.min(), target_col.max())"
   ]
  },
  {
   "cell_type": "markdown",
   "id": "1298a57e",
   "metadata": {},
   "source": [
    "#### Column purpose and explanation\n",
    "The \"station_id\" column seems to be a foreign key that links to \"station\" table.\n",
    "\n",
    "#### Summary\n",
    "\n",
    "There are 15468 unique stations in total. Most stations appear one time. However, some appear up to seven times.\n",
    "\n",
    "#### Potential problems\n",
    "\n",
    "No potential problems found."
   ]
  },
  {
   "cell_type": "markdown",
   "id": "34aea9d5",
   "metadata": {},
   "source": [
    "### 'line_id' column"
   ]
  },
  {
   "cell_type": "code",
   "execution_count": 8,
   "id": "e6ffd580",
   "metadata": {},
   "outputs": [
    {
     "name": "stdout",
     "output_type": "stream",
     "text": [
      "1020\n",
      "\n",
      "\n",
      "658     95\n",
      "639     90\n",
      "612     87\n",
      "171     86\n",
      "938     78\n",
      "        ..\n",
      "1213     1\n",
      "1214     1\n",
      "106      1\n",
      "740      1\n",
      "554      1\n",
      "Name: line_id, Length: 1020, dtype: int64\n"
     ]
    }
   ],
   "source": [
    "target_col = df[\"line_id\"]\n",
    "\n",
    "# Number of unique values, what they are and how many times they appear\n",
    "print(target_col.nunique()) # 1020 unique values\n",
    "print(\"\\n\")\n",
    "print(target_col.value_counts())"
   ]
  },
  {
   "cell_type": "code",
   "execution_count": 9,
   "id": "4de51d3e",
   "metadata": {},
   "outputs": [
    {
     "name": "stdout",
     "output_type": "stream",
     "text": [
      "       line_id\n",
      "count         \n",
      "1           34\n",
      "2           89\n",
      "3           58\n",
      "4           48\n",
      "5           33\n",
      "...        ...\n",
      "78           1\n",
      "86           1\n",
      "87           1\n",
      "90           1\n",
      "95           1\n",
      "\n",
      "[69 rows x 1 columns]\n"
     ]
    }
   ],
   "source": [
    "# What about the inverse, how many stations appear 7 times, 6 times ... 1 times etc.\n",
    "result = (pd.DataFrame(target_col.value_counts())\n",
    "          .rename({\"line_id\": \"count\"}, axis = 1))\n",
    "result[\"line_id\"] = result.index\n",
    "result = (result\n",
    "          .reset_index(drop = True)\n",
    "          .groupby(\"count\")\n",
    "          .agg(\"count\"))\n",
    "\n",
    "print(result)"
   ]
  },
  {
   "cell_type": "code",
   "execution_count": 10,
   "id": "8618ac73",
   "metadata": {},
   "outputs": [
    {
     "name": "stdout",
     "output_type": "stream",
     "text": [
      "5 1614\n"
     ]
    }
   ],
   "source": [
    "# min and max of the column\n",
    "print(target_col.min(), target_col.max())"
   ]
  },
  {
   "cell_type": "markdown",
   "id": "14b74e68",
   "metadata": {},
   "source": [
    "#### Column purpose and explanation\n",
    "\n",
    "The 'line_id' column seems to be a foreign key that links to the \"line\" table.\n",
    "\n",
    "#### Summary\n",
    "\n",
    "There are 1020 unique lines in total, far less than stations as expected. The minimum and the maximum of the dataset also seems correct. The number of times that a line appears in the dataset has a more diverse distribution when compared to stations.\n",
    "\n",
    "#### Potential problems\n",
    "\n",
    "No potential problems found."
   ]
  },
  {
   "cell_type": "markdown",
   "id": "e1532dfa",
   "metadata": {},
   "source": [
    "### 'city_id' column"
   ]
  },
  {
   "cell_type": "code",
   "execution_count": 11,
   "id": "8885f2e6",
   "metadata": {},
   "outputs": [
    {
     "name": "stdout",
     "output_type": "stream",
     "text": [
      "1 331\n",
      "\n",
      "\n",
      "81\n",
      "\n",
      "\n",
      "114    3335\n",
      "91     1291\n",
      "206    1224\n",
      "69      912\n",
      "95      897\n",
      "       ... \n",
      "283       4\n",
      "199       3\n",
      "211       2\n",
      "45        1\n",
      "72        1\n",
      "Name: city_id, Length: 81, dtype: int64\n"
     ]
    }
   ],
   "source": [
    "target_col = df[\"city_id\"]\n",
    "\n",
    "# min and max of the column\n",
    "print(target_col.min(), target_col.max())\n",
    "print(\"\\n\")\n",
    "# Number of unique values, what they are and how many times they appear\n",
    "print(target_col.nunique()) # 81 unique values\n",
    "print(\"\\n\")\n",
    "print(target_col.value_counts())"
   ]
  },
  {
   "cell_type": "code",
   "execution_count": 12,
   "id": "ec863334",
   "metadata": {},
   "outputs": [
    {
     "name": "stdout",
     "output_type": "stream",
     "text": [
      "       city_id\n",
      "count         \n",
      "1            2\n",
      "2            1\n",
      "3            1\n",
      "4            1\n",
      "5            1\n",
      "...        ...\n",
      "897          1\n",
      "912          1\n",
      "1224         1\n",
      "1291         1\n",
      "3335         1\n",
      "\n",
      "[73 rows x 1 columns]\n"
     ]
    }
   ],
   "source": [
    "# What about the inverse, how many stations appear n times, n - 1 times etc...\n",
    "result = (pd.DataFrame(target_col.value_counts())\n",
    "          .rename({\"city_id\": \"count\"}, axis = 1))\n",
    "result[\"city_id\"] = result.index\n",
    "result = (result\n",
    "          .reset_index(drop = True)\n",
    "          .groupby(\"count\")\n",
    "          .agg(\"count\"))\n",
    "\n",
    "print(result)"
   ]
  },
  {
   "cell_type": "markdown",
   "id": "bccdbf26",
   "metadata": {},
   "source": [
    "#### Column purpose and explanation\n",
    "\n",
    "The 'city_id' column seems to be a foreign key that points to the 'cities' table.\n",
    "\n",
    "#### Summary\n",
    "\n",
    "The minimum id and the maximum id seems to be between logical bounds. There are 81 unique city id's in total. \n",
    "\n",
    "#### Potential problems\n",
    "\n",
    "- There are 81 unique cities in total, which seems to be a problem."
   ]
  },
  {
   "cell_type": "markdown",
   "id": "64d31dd5",
   "metadata": {},
   "source": [
    "### 'created_at' column"
   ]
  },
  {
   "cell_type": "code",
   "execution_count": 13,
   "id": "9f7ad58d",
   "metadata": {},
   "outputs": [
    {
     "name": "stdout",
     "output_type": "stream",
     "text": [
      "2017-11-21 00:00:00 2019-03-11 21:42:48.700022\n",
      "\n",
      "\n"
     ]
    }
   ],
   "source": [
    "target_col = pd.to_datetime(df[\"created_at\"]) # We need this as datetime\n",
    "\n",
    "# min and max of the column\n",
    "print(target_col.min(), target_col.max())\n",
    "print(\"\\n\")"
   ]
  },
  {
   "cell_type": "markdown",
   "id": "25d15d9d",
   "metadata": {},
   "source": [
    "#### Column purpose and explanation\n",
    "\n",
    "The exact purpose of this column is a bit of a puzzle. It might be signalling the time that this entry was first created.\n",
    "\n",
    "#### Summary\n",
    "\n",
    "The min and the max values seem to be within logical bounds. Doesn't seem to be much useful for analysis purposes.\n",
    "\n",
    "#### Potential problems\n",
    "\n",
    "- This column needs to be of TIMESTAMP data type. It is currently text only."
   ]
  },
  {
   "cell_type": "markdown",
   "id": "8387b322",
   "metadata": {},
   "source": [
    "### 'updated_at' column"
   ]
  },
  {
   "cell_type": "code",
   "execution_count": 14,
   "id": "6b5f067f",
   "metadata": {},
   "outputs": [
    {
     "name": "stdout",
     "output_type": "stream",
     "text": [
      "2017-11-21 00:00:00 2019-03-11 21:42:48.700022\n",
      "\n",
      "\n"
     ]
    }
   ],
   "source": [
    "target_col = pd.to_datetime(df[\"updated_at\"]) # We need this as datetime\n",
    "\n",
    "# min and max of the column\n",
    "print(target_col.min(), target_col.max())\n",
    "print(\"\\n\")"
   ]
  },
  {
   "cell_type": "markdown",
   "id": "a135d13c",
   "metadata": {},
   "source": [
    "#### Column purpose and explanation\n",
    "\n",
    "The exact purpose of this column is a bit of a puzzle. It might be signalling the time that this entry was edited.\n",
    "\n",
    "#### Summary\n",
    "\n",
    "The min and the max values seem to be within logical bounds. Doesn't seem to be much useful for analysis purposes.\n",
    "\n",
    "#### Potential problems\n",
    "\n",
    "This column needs to be of TIMESTAMP data type. It is currently text only."
   ]
  },
  {
   "cell_type": "markdown",
   "id": "9afa537f",
   "metadata": {},
   "source": [
    "## Analyze - 'systems' table"
   ]
  },
  {
   "cell_type": "markdown",
   "id": "6982571a",
   "metadata": {},
   "source": [
    "### Whole table"
   ]
  },
  {
   "cell_type": "code",
   "execution_count": 15,
   "id": "ecb2cf98",
   "metadata": {},
   "outputs": [
    {
     "name": "stdout",
     "output_type": "stream",
     "text": [
      "   id  city_id  name\n",
      "0   1        5  None\n",
      "1   2        6  None\n",
      "2   3        7  None\n",
      "3   4        8  None\n",
      "4   5        9  None\n",
      "\n",
      "\n",
      "<class 'pandas.core.frame.DataFrame'>\n",
      "RangeIndex: 488 entries, 0 to 487\n",
      "Data columns (total 3 columns):\n",
      " #   Column   Non-Null Count  Dtype \n",
      "---  ------   --------------  ----- \n",
      " 0   id       488 non-null    int64 \n",
      " 1   city_id  488 non-null    int64 \n",
      " 2   name     287 non-null    object\n",
      "dtypes: int64(2), object(1)\n",
      "memory usage: 11.6+ KB\n",
      "None\n"
     ]
    }
   ],
   "source": [
    "df = tables[\"systems\"]\n",
    "\n",
    "# Take a look at the head of the data\n",
    "print(df.head(5))\n",
    "print(\"\\n\")\n",
    "# Generate a metadata report\n",
    "print(df.info())"
   ]
  },
  {
   "cell_type": "markdown",
   "id": "67da3490",
   "metadata": {},
   "source": [
    "#### Table purpose and explanation\n",
    "\n",
    "This table serves as a table that represents the \"systems\" entity. The systems entity has only one non-key attribute, and that is the 'name' attribute. The other two entities are id's. The 'id' column is the primary key of this table and the 'city_id' column is a foreign key that links to the 'cities' table.\n",
    "\n",
    "#### Summary\n",
    "\n",
    "The table has 3 columns and 488 rows. The first two columns ('id' and 'city_id') do not have any null values as they are keys. The 'name' column has nearly half of its values as NULL. The id columns are of NumPy data type int64 and the 'name' column is a NumPy object. This makes sense as the NumPy 'object' also describes text.\n",
    "\n",
    "#### Potential problems\n"
   ]
  },
  {
   "cell_type": "markdown",
   "id": "e8494d1d",
   "metadata": {},
   "source": [
    "### 'id' column"
   ]
  },
  {
   "cell_type": "code",
   "execution_count": 22,
   "id": "73d464a7",
   "metadata": {},
   "outputs": [
    {
     "name": "stdout",
     "output_type": "stream",
     "text": [
      "1 638\n",
      "\n",
      "\n",
      "488\n",
      "\n",
      "\n",
      "1      1\n",
      "348    1\n",
      "346    1\n",
      "345    1\n",
      "343    1\n",
      "      ..\n",
      "161    1\n",
      "160    1\n",
      "159    1\n",
      "158    1\n",
      "638    1\n",
      "Name: id, Length: 488, dtype: int64\n"
     ]
    }
   ],
   "source": [
    "target_col = df[\"id\"]\n",
    "\n",
    "# Check the min and max values\n",
    "print(target_col.min(), target_col.max())\n",
    "print(\"\\n\")\n",
    "\n",
    "# Look at how many unique values there are and how many times they appear\n",
    "print(target_col.nunique())\n",
    "print(\"\\n\")\n",
    "print(target_col.value_counts())"
   ]
  },
  {
   "cell_type": "markdown",
   "id": "6ed6df45",
   "metadata": {},
   "source": [
    "#### Column purpose and explanation\n",
    "\n",
    "This column serves as the primary key of the 'systems' table.\n",
    "\n",
    "#### Summary\n",
    "\n",
    "The min and the max values seem to be within logical bounds. As expected from an id column, there are no null values and there are as many unique values as there are id's.\n",
    "\n",
    "#### Potential problems\n",
    "\n",
    "No potential problems found."
   ]
  },
  {
   "cell_type": "markdown",
   "id": "1242f2d8",
   "metadata": {},
   "source": [
    "### 'city_id' column"
   ]
  },
  {
   "cell_type": "code",
   "execution_count": 24,
   "id": "4454120b",
   "metadata": {},
   "outputs": [
    {
     "name": "stdout",
     "output_type": "stream",
     "text": [
      "1 331\n",
      "\n",
      "\n",
      "287\n",
      "\n",
      "\n",
      "114    49\n",
      "91     26\n",
      "206    14\n",
      "95      9\n",
      "139     8\n",
      "       ..\n",
      "34      1\n",
      "127     1\n",
      "128     1\n",
      "129     1\n",
      "323     1\n",
      "Name: city_id, Length: 287, dtype: int64\n",
      "\n",
      "\n",
      "       city_id\n",
      "count         \n",
      "1          230\n",
      "2           28\n",
      "3           13\n",
      "4            3\n",
      "5            3\n",
      "6            5\n",
      "8            1\n",
      "9            1\n",
      "14           1\n",
      "26           1\n",
      "49           1\n"
     ]
    }
   ],
   "source": [
    "target_col = df[\"city_id\"]\n",
    "\n",
    "# Check the min and max values\n",
    "print(target_col.min(), target_col.max())\n",
    "print(\"\\n\")\n",
    "\n",
    "# Look at how many unique values there are and how many times they appear\n",
    "print(target_col.nunique())\n",
    "print(\"\\n\")\n",
    "print(target_col.value_counts())\n",
    "print(\"\\n\")\n",
    "\n",
    "# What about the inverse, how many stations appear n times, n - 1 times etc...\n",
    "result = (pd.DataFrame(target_col.value_counts())\n",
    "          .rename({\"city_id\": \"count\"}, axis = 1))\n",
    "result[\"city_id\"] = result.index\n",
    "result = (result\n",
    "          .reset_index(drop = True)\n",
    "          .groupby(\"count\")\n",
    "          .agg(\"count\"))\n",
    "\n",
    "print(result)"
   ]
  },
  {
   "cell_type": "markdown",
   "id": "1beb3166",
   "metadata": {},
   "source": [
    "#### Column purpose and explanation\n",
    "\n",
    "This column serves as a foreign key that links to the 'cities' table.\n",
    "\n",
    "#### Summary\n",
    "\n",
    "The min and the max values seem to be within logical bounds. As expected from an id column, there are no null values. Most city id's appear only once. However, some city id's appear more than once (up to 49 times). This might indicate that some cities possess a wider range of transportation systems.\n",
    "\n",
    "#### Potential problems\n",
    "\n",
    "No potential problems found."
   ]
  },
  {
   "cell_type": "markdown",
   "id": "019e2f60",
   "metadata": {},
   "source": [
    "### 'name' column"
   ]
  },
  {
   "cell_type": "code",
   "execution_count": 28,
   "id": "638343e4",
   "metadata": {},
   "outputs": [
    {
     "name": "stdout",
     "output_type": "stream",
     "text": [
      "235\n",
      "\n",
      "\n",
      "Tramway                                16\n",
      "Metro                                  13\n",
      "Tram                                    9\n",
      "Métro                                   3\n",
      "Funiculaire                             3\n",
      "                                       ..\n",
      "Tokyo Monorail                          1\n",
      "Macrobús                                1\n",
      "Tokyo Waterfront Area Rapid Transit     1\n",
      "Comboios de Portugal                    1\n",
      "Ómnibus                                 1\n",
      "Name: name, Length: 235, dtype: int64\n",
      "\n",
      "\n",
      "       city_id\n",
      "count         \n",
      "1          219\n",
      "2            9\n",
      "3            4\n",
      "9            1\n",
      "13           1\n",
      "16           1\n"
     ]
    }
   ],
   "source": [
    "target_col = df[\"name\"]\n",
    "\n",
    "# Look at how many unique values there are and how many times they appear\n",
    "print(target_col.nunique()) \n",
    "print(\"\\n\")\n",
    "print(target_col.value_counts())\n",
    "print(\"\\n\")\n",
    "\n",
    "# What about the inverse, how many stations appear n times, n - 1 times etc...\n",
    "result = (pd.DataFrame(target_col.value_counts())\n",
    "          .rename({\"name\": \"count\"}, axis = 1))\n",
    "result[\"city_id\"] = result.index\n",
    "result = (result\n",
    "          .reset_index(drop = True)\n",
    "          .groupby(\"count\")\n",
    "          .agg(\"count\"))\n",
    "print(result)"
   ]
  },
  {
   "cell_type": "markdown",
   "id": "3a87027e",
   "metadata": {},
   "source": [
    "#### Column purpose and explanation\n",
    "\n",
    "This column is the only non-key attribute of the 'systems' table. It gives information about what a transportation system is called in the local language.\n",
    "\n",
    "#### Summary\n",
    "\n",
    "There appears to be some universal names (like \"Tramway\" and \"Metro\") that appear more than once. Other than that, there aren't any exactly equal names. This table is not suitable to be used in the analysis of transportation system diversity because the systems with the same technical classification might be named or spelled differently in different languages.\n",
    "\n",
    "#### Potential problems\n",
    "\n",
    "No potential problems found."
   ]
  },
  {
   "cell_type": "code",
   "execution_count": null,
   "id": "db367ce5",
   "metadata": {},
   "outputs": [],
   "source": []
  }
 ],
 "metadata": {
  "kernelspec": {
   "display_name": "Python 3 (ipykernel)",
   "language": "python",
   "name": "python3"
  },
  "language_info": {
   "codemirror_mode": {
    "name": "ipython",
    "version": 3
   },
   "file_extension": ".py",
   "mimetype": "text/x-python",
   "name": "python",
   "nbconvert_exporter": "python",
   "pygments_lexer": "ipython3",
   "version": "3.9.6"
  }
 },
 "nbformat": 4,
 "nbformat_minor": 5
}
