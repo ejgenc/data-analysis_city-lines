{
 "cells": [
  {
   "cell_type": "markdown",
   "id": "8e6df0e3",
   "metadata": {},
   "source": [
    "# Exploratory Data Analysis\n",
    "\n",
    "This notebook is used to conduct exploratory data analysis on the \"station_lines\", \"systems\", \"tracks\" and \"track_lines\" tables of the \"city-lines\" dataset with the goal of uncovering data quality issues.\n",
    "\n",
    "## Summary\n",
    "\n",
    "The following data quality problems were determined:\n",
    "\n",
    "### 'station_lines' table\n",
    "\n",
    "- 'created_at' and 'updated_at' columns have the wrong data type. As their name suggests, they are supposed to be timestamps. However they are encoded as text in both the MySQL database and Pandas. \n",
    "\n",
    "### 'tracks' table\n",
    "\n",
    "- The columns 'buildstart', 'opening' and 'closure' incorrectly show up as 'float64' data types. They are also encoded as such in the database. As their name and the column values suggest, they should be YEAR or DATE. At the very least, they should be INT and not FLOAT.\n",
    "\n",
    "- The minimum and maximum values of the 'buildstart', 'opening' and 'closure' columns are not within logical ranges. As explained above, these columns most probably denote a year. However, the lower bound of their values is -1 and the upper bound is 999999. The values that lie outside of an arbitrary range should be taken as faulty and converted to NULL.\n",
    "\n",
    "- There are some values in the 'buildstart', \"opening' and 'closure' columns that just don't make sense for the scope of our analysis today. For example, there are rows whose 'buildstart' value is >2022. They should be taken as irrelevant and converted to NULL or flagged as such through any other strategy.\n",
    "\n",
    "- The 'length' column has no associated measurement unit information along with it. We do not know if these numbers are in CM's, M's or KM's.\n",
    "\n",
    "- There are some values within the 'length' column that do not make sense in any measurement unit.\n",
    "  \n",
    "- Although it appears that there are no null values in the 'length', the rows with value 0 might as well be null.\n",
    "\n",
    "- The 'geometry' column shows up as 'object' type in Pandas. It is also encoded as text in the database. Since it represents a geometry, it should be encoded as such.\n",
    "\n",
    "- The geometry column lacks CRS information. As such, you cannot calculate from the geometries the length of each track. Instead you have to rely on the 'length' column."
   ]
  },
  {
   "cell_type": "markdown",
   "id": "bc5bcefd",
   "metadata": {},
   "source": [
    "## Setup"
   ]
  },
  {
   "cell_type": "markdown",
   "id": "37859812",
   "metadata": {},
   "source": [
    "### Import required packages"
   ]
  },
  {
   "cell_type": "code",
   "execution_count": 5,
   "id": "e8fcb981",
   "metadata": {},
   "outputs": [],
   "source": [
    "from pathlib import Path\n",
    "import mysql.connector as connector\n",
    "import numpy as np\n",
    "import pandas as pd\n",
    "import geopandas as gpd\n",
    "from shapely.wkt import loads"
   ]
  },
  {
   "cell_type": "markdown",
   "id": "32a9758a",
   "metadata": {},
   "source": [
    "### Set credentials & establish connection with the database"
   ]
  },
  {
   "cell_type": "code",
   "execution_count": 6,
   "id": "855041b5",
   "metadata": {},
   "outputs": [
    {
     "data": {
      "text/html": [
       "<div>\n",
       "<style scoped>\n",
       "    .dataframe tbody tr th:only-of-type {\n",
       "        vertical-align: middle;\n",
       "    }\n",
       "\n",
       "    .dataframe tbody tr th {\n",
       "        vertical-align: top;\n",
       "    }\n",
       "\n",
       "    .dataframe thead th {\n",
       "        text-align: right;\n",
       "    }\n",
       "</style>\n",
       "<table border=\"1\" class=\"dataframe\">\n",
       "  <thead>\n",
       "    <tr style=\"text-align: right;\">\n",
       "      <th></th>\n",
       "      <th>Tables_in_city-lines</th>\n",
       "    </tr>\n",
       "  </thead>\n",
       "  <tbody>\n",
       "    <tr>\n",
       "      <th>0</th>\n",
       "      <td>cities</td>\n",
       "    </tr>\n",
       "    <tr>\n",
       "      <th>1</th>\n",
       "      <td>lines</td>\n",
       "    </tr>\n",
       "    <tr>\n",
       "      <th>2</th>\n",
       "      <td>station_lines</td>\n",
       "    </tr>\n",
       "    <tr>\n",
       "      <th>3</th>\n",
       "      <td>stations</td>\n",
       "    </tr>\n",
       "    <tr>\n",
       "      <th>4</th>\n",
       "      <td>systems</td>\n",
       "    </tr>\n",
       "    <tr>\n",
       "      <th>5</th>\n",
       "      <td>track_lines</td>\n",
       "    </tr>\n",
       "    <tr>\n",
       "      <th>6</th>\n",
       "      <td>tracks</td>\n",
       "    </tr>\n",
       "  </tbody>\n",
       "</table>\n",
       "</div>"
      ],
      "text/plain": [
       "  Tables_in_city-lines\n",
       "0               cities\n",
       "1                lines\n",
       "2        station_lines\n",
       "3             stations\n",
       "4              systems\n",
       "5          track_lines\n",
       "6               tracks"
      ]
     },
     "execution_count": 6,
     "metadata": {},
     "output_type": "execute_result"
    }
   ],
   "source": [
    "credentials = {\n",
    "    \"username\": \"root\",\n",
    "    \"password\": \"\"\n",
    "}\n",
    "\n",
    "# Establish a connection with the DBMS\n",
    "conn = connector.connect(user = credentials[\"username\"],\n",
    "                         passwd = credentials[\"password\"],\n",
    "                         host = \"localhost\",\n",
    "                         database = \"city-lines\")\n",
    "\n",
    "# Check if the connection is there\n",
    "sql_query = \"\"\"\n",
    "SHOW tables;\n",
    "\"\"\"\n",
    "df = pd.read_sql(sql_query, conn)\n",
    "df"
   ]
  },
  {
   "cell_type": "markdown",
   "id": "ec7ae40e",
   "metadata": {},
   "source": [
    "### Load data"
   ]
  },
  {
   "cell_type": "code",
   "execution_count": 7,
   "id": "c298e101",
   "metadata": {},
   "outputs": [],
   "source": [
    "tables = {}\n",
    "for table_name in [\"station_lines\", \"systems\", \"tracks\", \"track_lines\"]:\n",
    "    sql_query = \"SELECT * FROM {}\".format(table_name)\n",
    "    tables[table_name] = pd.read_sql(sql_query, conn)"
   ]
  },
  {
   "cell_type": "markdown",
   "id": "fd86196f",
   "metadata": {},
   "source": [
    "## Analyze - 'station_lines' table"
   ]
  },
  {
   "cell_type": "markdown",
   "id": "d9db1791",
   "metadata": {},
   "source": [
    "### Whole table"
   ]
  },
  {
   "cell_type": "code",
   "execution_count": 8,
   "id": "5e649213",
   "metadata": {},
   "outputs": [
    {
     "name": "stdout",
     "output_type": "stream",
     "text": [
      "   id  station_id  line_id  city_id           created_at           updated_at\n",
      "0   1        7694      629      114  2017-11-21 00:00:00  2017-11-21 00:00:00\n",
      "1   2        6003      528       29  2017-11-21 00:00:00  2017-11-21 00:00:00\n",
      "2   3        7732      570       74  2017-11-21 00:00:00  2017-11-21 00:00:00\n",
      "3   4        7695      629      114  2017-11-21 00:00:00  2017-11-21 00:00:00\n",
      "4   5        7726      570       74  2017-11-21 00:00:00  2017-11-21 00:00:00\n",
      "\n",
      "\n",
      "<class 'pandas.core.frame.DataFrame'>\n",
      "RangeIndex: 16242 entries, 0 to 16241\n",
      "Data columns (total 6 columns):\n",
      " #   Column      Non-Null Count  Dtype \n",
      "---  ------      --------------  ----- \n",
      " 0   id          16242 non-null  int64 \n",
      " 1   station_id  16242 non-null  int64 \n",
      " 2   line_id     16242 non-null  int64 \n",
      " 3   city_id     16242 non-null  int64 \n",
      " 4   created_at  16242 non-null  object\n",
      " 5   updated_at  16242 non-null  object\n",
      "dtypes: int64(4), object(2)\n",
      "memory usage: 761.5+ KB\n",
      "None\n"
     ]
    }
   ],
   "source": [
    "df = tables[\"station_lines\"]\n",
    "\n",
    "# Take a look at the head of the data\n",
    "print(df.head(5))\n",
    "print(\"\\n\")\n",
    "# Generate a metadata report\n",
    "print(df.info())"
   ]
  },
  {
   "cell_type": "markdown",
   "id": "bbbbce0a",
   "metadata": {},
   "source": [
    "#### Table purpose and explanation\n",
    "This table seems to be a 'relationship relation' table that lays out which stations lie on which lines. Inversely, it can also be used to represent the lines that pass from a station. It can also be linked to individual cities.\n",
    "\n",
    "#### Summary\n",
    "\n",
    "The \"station_lines\" table consists of six columns and 16242 rows. None of the rows have any null values, which is a good indicator. The first four columns (id, station_id, line_id and city_id) have the NumPy data type 'int64'. This makes sense as these are id's and id's are usually discrete numbers. This also means that id's are numeric only - no letters or markings at all. The last two columns (created_at and updated_at) show up as NumPy 'object' data type. This can mean anything.\n",
    "\n",
    "#### Potential problems\n",
    "\n",
    "- As the name of 'created_at' and 'updated_at' column suggests, these columns  were supposed to be 'time and date' data types. They did not show up in Pandas as such. This might be a problem while analyzing the data.\n"
   ]
  },
  {
   "cell_type": "markdown",
   "id": "9ec85598",
   "metadata": {},
   "source": [
    "### 'station_id' column"
   ]
  },
  {
   "cell_type": "code",
   "execution_count": 9,
   "id": "0202388f",
   "metadata": {},
   "outputs": [
    {
     "name": "stdout",
     "output_type": "stream",
     "text": [
      "15468\n",
      "\n",
      "\n",
      "11422    7\n",
      "11258    6\n",
      "10940    6\n",
      "11049    6\n",
      "11048    6\n",
      "        ..\n",
      "2308     1\n",
      "2347     1\n",
      "2309     1\n",
      "2336     1\n",
      "16558    1\n",
      "Name: station_id, Length: 15468, dtype: int64\n"
     ]
    }
   ],
   "source": [
    "target_col = df[\"station_id\"]\n",
    "\n",
    "# Number of unique values, what they are and how many times they appear\n",
    "print(target_col.nunique()) # 15468 unique values\n",
    "print(\"\\n\")\n",
    "print(target_col.value_counts())"
   ]
  },
  {
   "cell_type": "code",
   "execution_count": 10,
   "id": "464f7c95",
   "metadata": {},
   "outputs": [
    {
     "name": "stdout",
     "output_type": "stream",
     "text": [
      "       station_id\n",
      "count            \n",
      "1           14851\n",
      "2             502\n",
      "3              91\n",
      "4              13\n",
      "5               5\n",
      "6               5\n",
      "7               1\n"
     ]
    }
   ],
   "source": [
    "# What about the inverse, how many stations appear 7 times, 6 times ... 1 times etc.\n",
    "result = (pd.DataFrame(target_col.value_counts())\n",
    "          .rename({\"station_id\": \"count\"}, axis = 1))\n",
    "result[\"station_id\"] = result.index\n",
    "result = (result\n",
    "          .reset_index(drop = True)\n",
    "          .groupby(\"count\")\n",
    "          .agg(\"count\"))\n",
    "\n",
    "print(result)"
   ]
  },
  {
   "cell_type": "code",
   "execution_count": 11,
   "id": "06dc37bc",
   "metadata": {},
   "outputs": [
    {
     "name": "stdout",
     "output_type": "stream",
     "text": [
      "1 16558\n"
     ]
    }
   ],
   "source": [
    "# min and max of the column\n",
    "print(target_col.min(), target_col.max())"
   ]
  },
  {
   "cell_type": "markdown",
   "id": "1298a57e",
   "metadata": {},
   "source": [
    "#### Column purpose and explanation\n",
    "The \"station_id\" column seems to be a foreign key that links to \"station\" table.\n",
    "\n",
    "#### Summary\n",
    "\n",
    "There are 15468 unique stations in total. Most stations appear one time. However, some appear up to seven times.\n",
    "\n",
    "#### Potential problems\n",
    "\n",
    "No potential problems found."
   ]
  },
  {
   "cell_type": "markdown",
   "id": "34aea9d5",
   "metadata": {},
   "source": [
    "### 'line_id' column"
   ]
  },
  {
   "cell_type": "code",
   "execution_count": 12,
   "id": "e6ffd580",
   "metadata": {},
   "outputs": [
    {
     "name": "stdout",
     "output_type": "stream",
     "text": [
      "1020\n",
      "\n",
      "\n",
      "658     95\n",
      "639     90\n",
      "612     87\n",
      "171     86\n",
      "938     78\n",
      "        ..\n",
      "1213     1\n",
      "1214     1\n",
      "106      1\n",
      "740      1\n",
      "554      1\n",
      "Name: line_id, Length: 1020, dtype: int64\n"
     ]
    }
   ],
   "source": [
    "target_col = df[\"line_id\"]\n",
    "\n",
    "# Number of unique values, what they are and how many times they appear\n",
    "print(target_col.nunique()) # 1020 unique values\n",
    "print(\"\\n\")\n",
    "print(target_col.value_counts())"
   ]
  },
  {
   "cell_type": "code",
   "execution_count": 13,
   "id": "4de51d3e",
   "metadata": {},
   "outputs": [
    {
     "name": "stdout",
     "output_type": "stream",
     "text": [
      "       line_id\n",
      "count         \n",
      "1           34\n",
      "2           89\n",
      "3           58\n",
      "4           48\n",
      "5           33\n",
      "...        ...\n",
      "78           1\n",
      "86           1\n",
      "87           1\n",
      "90           1\n",
      "95           1\n",
      "\n",
      "[69 rows x 1 columns]\n"
     ]
    }
   ],
   "source": [
    "# What about the inverse, how many stations appear 7 times, 6 times ... 1 times etc.\n",
    "result = (pd.DataFrame(target_col.value_counts())\n",
    "          .rename({\"line_id\": \"count\"}, axis = 1))\n",
    "result[\"line_id\"] = result.index\n",
    "result = (result\n",
    "          .reset_index(drop = True)\n",
    "          .groupby(\"count\")\n",
    "          .agg(\"count\"))\n",
    "\n",
    "print(result)"
   ]
  },
  {
   "cell_type": "code",
   "execution_count": 14,
   "id": "8618ac73",
   "metadata": {},
   "outputs": [
    {
     "name": "stdout",
     "output_type": "stream",
     "text": [
      "5 1614\n"
     ]
    }
   ],
   "source": [
    "# min and max of the column\n",
    "print(target_col.min(), target_col.max())"
   ]
  },
  {
   "cell_type": "markdown",
   "id": "14b74e68",
   "metadata": {},
   "source": [
    "#### Column purpose and explanation\n",
    "\n",
    "The 'line_id' column seems to be a foreign key that links to the \"line\" table.\n",
    "\n",
    "#### Summary\n",
    "\n",
    "There are 1020 unique lines in total, far less than stations as expected. The minimum and the maximum of the dataset also seems correct. The number of times that a line appears in the dataset has a more diverse distribution when compared to stations.\n",
    "\n",
    "#### Potential problems\n",
    "\n",
    "No potential problems found."
   ]
  },
  {
   "cell_type": "markdown",
   "id": "e1532dfa",
   "metadata": {},
   "source": [
    "### 'city_id' column"
   ]
  },
  {
   "cell_type": "code",
   "execution_count": 15,
   "id": "8885f2e6",
   "metadata": {},
   "outputs": [
    {
     "name": "stdout",
     "output_type": "stream",
     "text": [
      "1 331\n",
      "\n",
      "\n",
      "81\n",
      "\n",
      "\n",
      "114    3335\n",
      "91     1291\n",
      "206    1224\n",
      "69      912\n",
      "95      897\n",
      "       ... \n",
      "283       4\n",
      "199       3\n",
      "211       2\n",
      "45        1\n",
      "72        1\n",
      "Name: city_id, Length: 81, dtype: int64\n"
     ]
    }
   ],
   "source": [
    "target_col = df[\"city_id\"]\n",
    "\n",
    "# min and max of the column\n",
    "print(target_col.min(), target_col.max())\n",
    "print(\"\\n\")\n",
    "# Number of unique values, what they are and how many times they appear\n",
    "print(target_col.nunique()) # 81 unique values\n",
    "print(\"\\n\")\n",
    "print(target_col.value_counts())"
   ]
  },
  {
   "cell_type": "code",
   "execution_count": 16,
   "id": "ec863334",
   "metadata": {},
   "outputs": [
    {
     "name": "stdout",
     "output_type": "stream",
     "text": [
      "       city_id\n",
      "count         \n",
      "1            2\n",
      "2            1\n",
      "3            1\n",
      "4            1\n",
      "5            1\n",
      "...        ...\n",
      "897          1\n",
      "912          1\n",
      "1224         1\n",
      "1291         1\n",
      "3335         1\n",
      "\n",
      "[73 rows x 1 columns]\n"
     ]
    }
   ],
   "source": [
    "# What about the inverse, how many stations appear n times, n - 1 times etc...\n",
    "result = (pd.DataFrame(target_col.value_counts())\n",
    "          .rename({\"city_id\": \"count\"}, axis = 1))\n",
    "result[\"city_id\"] = result.index\n",
    "result = (result\n",
    "          .reset_index(drop = True)\n",
    "          .groupby(\"count\")\n",
    "          .agg(\"count\"))\n",
    "\n",
    "print(result)"
   ]
  },
  {
   "cell_type": "markdown",
   "id": "bccdbf26",
   "metadata": {},
   "source": [
    "#### Column purpose and explanation\n",
    "\n",
    "The 'city_id' column seems to be a foreign key that points to the 'cities' table.\n",
    "\n",
    "#### Summary\n",
    "\n",
    "The minimum id and the maximum id seems to be between logical bounds. There are 81 unique city id's in total. \n",
    "\n",
    "#### Potential problems\n",
    "\n",
    "- There are 81 unique cities in total, which seems to be a problem."
   ]
  },
  {
   "cell_type": "markdown",
   "id": "64d31dd5",
   "metadata": {},
   "source": [
    "### 'created_at' column"
   ]
  },
  {
   "cell_type": "code",
   "execution_count": 17,
   "id": "9f7ad58d",
   "metadata": {},
   "outputs": [
    {
     "name": "stdout",
     "output_type": "stream",
     "text": [
      "2017-11-21 00:00:00 2019-03-11 21:42:48.700022\n",
      "\n",
      "\n"
     ]
    }
   ],
   "source": [
    "target_col = pd.to_datetime(df[\"created_at\"]) # We need this as datetime\n",
    "\n",
    "# min and max of the column\n",
    "print(target_col.min(), target_col.max())\n",
    "print(\"\\n\")"
   ]
  },
  {
   "cell_type": "markdown",
   "id": "25d15d9d",
   "metadata": {},
   "source": [
    "#### Column purpose and explanation\n",
    "\n",
    "The exact purpose of this column is a bit of a puzzle. It might be signalling the time that this entry was first created.\n",
    "\n",
    "#### Summary\n",
    "\n",
    "The min and the max values seem to be within logical bounds. Doesn't seem to be much useful for analysis purposes.\n",
    "\n",
    "#### Potential problems\n",
    "\n",
    "- This column needs to be of TIMESTAMP data type. It is currently text only."
   ]
  },
  {
   "cell_type": "markdown",
   "id": "8387b322",
   "metadata": {},
   "source": [
    "### 'updated_at' column"
   ]
  },
  {
   "cell_type": "code",
   "execution_count": 18,
   "id": "6b5f067f",
   "metadata": {},
   "outputs": [
    {
     "name": "stdout",
     "output_type": "stream",
     "text": [
      "2017-11-21 00:00:00 2019-03-11 21:42:48.700022\n",
      "\n",
      "\n"
     ]
    }
   ],
   "source": [
    "target_col = pd.to_datetime(df[\"updated_at\"]) # We need this as datetime\n",
    "\n",
    "# min and max of the column\n",
    "print(target_col.min(), target_col.max())\n",
    "print(\"\\n\")"
   ]
  },
  {
   "cell_type": "markdown",
   "id": "a135d13c",
   "metadata": {},
   "source": [
    "#### Column purpose and explanation\n",
    "\n",
    "The exact purpose of this column is a bit of a puzzle. It might be signalling the time that this entry was edited.\n",
    "\n",
    "#### Summary\n",
    "\n",
    "The min and the max values seem to be within logical bounds. Doesn't seem to be much useful for analysis purposes.\n",
    "\n",
    "#### Potential problems\n",
    "\n",
    "This column needs to be of TIMESTAMP data type. It is currently text only."
   ]
  },
  {
   "cell_type": "markdown",
   "id": "9afa537f",
   "metadata": {},
   "source": [
    "## Analyze - 'systems' table"
   ]
  },
  {
   "cell_type": "markdown",
   "id": "6982571a",
   "metadata": {},
   "source": [
    "### Whole table"
   ]
  },
  {
   "cell_type": "code",
   "execution_count": 19,
   "id": "ecb2cf98",
   "metadata": {},
   "outputs": [
    {
     "name": "stdout",
     "output_type": "stream",
     "text": [
      "   id  city_id  name\n",
      "0   1        5  None\n",
      "1   2        6  None\n",
      "2   3        7  None\n",
      "3   4        8  None\n",
      "4   5        9  None\n",
      "\n",
      "\n",
      "<class 'pandas.core.frame.DataFrame'>\n",
      "RangeIndex: 488 entries, 0 to 487\n",
      "Data columns (total 3 columns):\n",
      " #   Column   Non-Null Count  Dtype \n",
      "---  ------   --------------  ----- \n",
      " 0   id       488 non-null    int64 \n",
      " 1   city_id  488 non-null    int64 \n",
      " 2   name     287 non-null    object\n",
      "dtypes: int64(2), object(1)\n",
      "memory usage: 11.6+ KB\n",
      "None\n"
     ]
    }
   ],
   "source": [
    "df = tables[\"systems\"]\n",
    "\n",
    "# Take a look at the head of the data\n",
    "print(df.head(5))\n",
    "print(\"\\n\")\n",
    "# Generate a metadata report\n",
    "print(df.info())"
   ]
  },
  {
   "cell_type": "markdown",
   "id": "67da3490",
   "metadata": {},
   "source": [
    "#### Table purpose and explanation\n",
    "\n",
    "This table serves as a table that represents the \"systems\" entity. The systems entity has only one non-key attribute, and that is the 'name' attribute. The other two entities are id's. The 'id' column is the primary key of this table and the 'city_id' column is a foreign key that links to the 'cities' table.\n",
    "\n",
    "#### Summary\n",
    "\n",
    "The table has 3 columns and 488 rows. The first two columns ('id' and 'city_id') do not have any null values as they are keys. The 'name' column has nearly half of its values as NULL. The id columns are of NumPy data type int64 and the 'name' column is a NumPy object. This makes sense as the NumPy 'object' also describes text.\n",
    "\n",
    "#### Potential problems\n"
   ]
  },
  {
   "cell_type": "markdown",
   "id": "17252e9b",
   "metadata": {},
   "source": [
    "### 'id' column"
   ]
  },
  {
   "cell_type": "code",
   "execution_count": 20,
   "id": "bd4bb583",
   "metadata": {},
   "outputs": [
    {
     "name": "stdout",
     "output_type": "stream",
     "text": [
      "1 638\n",
      "\n",
      "\n",
      "488\n",
      "\n",
      "\n",
      "1      1\n",
      "348    1\n",
      "346    1\n",
      "345    1\n",
      "343    1\n",
      "      ..\n",
      "161    1\n",
      "160    1\n",
      "159    1\n",
      "158    1\n",
      "638    1\n",
      "Name: id, Length: 488, dtype: int64\n"
     ]
    }
   ],
   "source": [
    "target_col = df[\"id\"]\n",
    "\n",
    "# Check the min and max values\n",
    "print(target_col.min(), target_col.max())\n",
    "print(\"\\n\")\n",
    "\n",
    "# Look at how many unique values there are and how many times they appear\n",
    "print(target_col.nunique())\n",
    "print(\"\\n\")\n",
    "print(target_col.value_counts())"
   ]
  },
  {
   "cell_type": "markdown",
   "id": "9da81e93",
   "metadata": {},
   "source": [
    "#### Column purpose and explanation\n",
    "\n",
    "This column serves as the primary key of the 'systems' table.\n",
    "\n",
    "#### Summary\n",
    "\n",
    "The min and the max values seem to be within logical bounds. As expected from an id column, there are no null values and there are as many unique values as there are id's.\n",
    "\n",
    "#### Potential problems\n",
    "\n",
    "No potential problems found."
   ]
  },
  {
   "cell_type": "markdown",
   "id": "d4cfc9d6",
   "metadata": {},
   "source": [
    "### 'city_id' column"
   ]
  },
  {
   "cell_type": "code",
   "execution_count": 21,
   "id": "35286196",
   "metadata": {},
   "outputs": [
    {
     "name": "stdout",
     "output_type": "stream",
     "text": [
      "1 331\n",
      "\n",
      "\n",
      "287\n",
      "\n",
      "\n",
      "114    49\n",
      "91     26\n",
      "206    14\n",
      "95      9\n",
      "139     8\n",
      "       ..\n",
      "34      1\n",
      "127     1\n",
      "128     1\n",
      "129     1\n",
      "323     1\n",
      "Name: city_id, Length: 287, dtype: int64\n",
      "\n",
      "\n",
      "       city_id\n",
      "count         \n",
      "1          230\n",
      "2           28\n",
      "3           13\n",
      "4            3\n",
      "5            3\n",
      "6            5\n",
      "8            1\n",
      "9            1\n",
      "14           1\n",
      "26           1\n",
      "49           1\n"
     ]
    }
   ],
   "source": [
    "target_col = df[\"city_id\"]\n",
    "\n",
    "# Check the min and max values\n",
    "print(target_col.min(), target_col.max())\n",
    "print(\"\\n\")\n",
    "\n",
    "# Look at how many unique values there are and how many times they appear\n",
    "print(target_col.nunique())\n",
    "print(\"\\n\")\n",
    "print(target_col.value_counts())\n",
    "print(\"\\n\")\n",
    "\n",
    "# What about the inverse, how many stations appear n times, n - 1 times etc...\n",
    "result = (pd.DataFrame(target_col.value_counts())\n",
    "          .rename({\"city_id\": \"count\"}, axis = 1))\n",
    "result[\"city_id\"] = result.index\n",
    "result = (result\n",
    "          .reset_index(drop = True)\n",
    "          .groupby(\"count\")\n",
    "          .agg(\"count\"))\n",
    "\n",
    "print(result)"
   ]
  },
  {
   "cell_type": "markdown",
   "id": "bc2fd79d",
   "metadata": {},
   "source": [
    "#### Column purpose and explanation\n",
    "\n",
    "This column serves as a foreign key that links to the 'cities' table.\n",
    "\n",
    "#### Summary\n",
    "\n",
    "The min and the max values seem to be within logical bounds. As expected from an id column, there are no null values. Most city id's appear only once. However, some city id's appear more than once (up to 49 times). This might indicate that some cities possess a wider range of transportation systems.\n",
    "\n",
    "#### Potential problems\n",
    "\n",
    "No potential problems found."
   ]
  },
  {
   "cell_type": "markdown",
   "id": "f5e2c2d3",
   "metadata": {},
   "source": [
    "### 'name' column"
   ]
  },
  {
   "cell_type": "code",
   "execution_count": 22,
   "id": "653bfffa",
   "metadata": {},
   "outputs": [
    {
     "name": "stdout",
     "output_type": "stream",
     "text": [
      "235\n",
      "\n",
      "\n",
      "Tramway                                16\n",
      "Metro                                  13\n",
      "Tram                                    9\n",
      "Métro                                   3\n",
      "Funiculaire                             3\n",
      "                                       ..\n",
      "Tokyo Monorail                          1\n",
      "Macrobús                                1\n",
      "Tokyo Waterfront Area Rapid Transit     1\n",
      "Comboios de Portugal                    1\n",
      "Ómnibus                                 1\n",
      "Name: name, Length: 235, dtype: int64\n",
      "\n",
      "\n",
      "       city_id\n",
      "count         \n",
      "1          219\n",
      "2            9\n",
      "3            4\n",
      "9            1\n",
      "13           1\n",
      "16           1\n"
     ]
    }
   ],
   "source": [
    "target_col = df[\"name\"]\n",
    "\n",
    "# Look at how many unique values there are and how many times they appear\n",
    "print(target_col.nunique()) \n",
    "print(\"\\n\")\n",
    "print(target_col.value_counts())\n",
    "print(\"\\n\")\n",
    "\n",
    "# What about the inverse, how many stations appear n times, n - 1 times etc...\n",
    "result = (pd.DataFrame(target_col.value_counts())\n",
    "          .rename({\"name\": \"count\"}, axis = 1))\n",
    "result[\"city_id\"] = result.index\n",
    "result = (result\n",
    "          .reset_index(drop = True)\n",
    "          .groupby(\"count\")\n",
    "          .agg(\"count\"))\n",
    "print(result)"
   ]
  },
  {
   "cell_type": "markdown",
   "id": "d3dd65d1",
   "metadata": {},
   "source": [
    "#### Column purpose and explanation\n",
    "\n",
    "This column is the only non-key attribute of the 'systems' table. It gives information about what a transportation system is called in the local language.\n",
    "\n",
    "#### Summary\n",
    "\n",
    "There appears to be some universal names (like \"Tramway\" and \"Metro\") that appear more than once. Other than that, there aren't any exactly equal names. This table is not suitable to be used in the analysis of transportation system diversity because the systems with the same technical classification might be named or spelled differently in different languages.\n",
    "\n",
    "#### Potential problems\n",
    "\n",
    "No potential problems found."
   ]
  },
  {
   "cell_type": "markdown",
   "id": "398e9845",
   "metadata": {},
   "source": [
    "## Analyze 'tracks' table"
   ]
  },
  {
   "cell_type": "markdown",
   "id": "8bd54ffb",
   "metadata": {},
   "source": [
    "### Whole table"
   ]
  },
  {
   "cell_type": "code",
   "execution_count": 23,
   "id": "6fd0af35",
   "metadata": {},
   "outputs": [
    {
     "name": "stdout",
     "output_type": "stream",
     "text": [
      "   id                                           geometry  buildstart  opening  \\\n",
      "0   1  LINESTRING(-58.3709571211488 -34.6088372926399...      1911.0   1913.0   \n",
      "1   2  LINESTRING(-58.4068664851857 -34.6097834143688...      1911.0   1914.0   \n",
      "2   3  LINESTRING(-58.4412952642446 -34.6204610313281...      2004.0   2008.0   \n",
      "3   4  LINESTRING(-58.4566866633175 -34.6266601195794...      2004.0   2013.0   \n",
      "4   5  LINESTRING(-58.4551967550169 -34.5871909624797...      1928.0   1930.0   \n",
      "\n",
      "    closure  length  city_id  \n",
      "0  999999.0    3334        1  \n",
      "1       NaN    3459        1  \n",
      "2       NaN    1571        1  \n",
      "3       NaN    1272        1  \n",
      "4       NaN    6382        1  \n",
      "\n",
      "\n",
      "<class 'pandas.core.frame.DataFrame'>\n",
      "RangeIndex: 9271 entries, 0 to 9270\n",
      "Data columns (total 7 columns):\n",
      " #   Column      Non-Null Count  Dtype  \n",
      "---  ------      --------------  -----  \n",
      " 0   id          9271 non-null   int64  \n",
      " 1   geometry    9271 non-null   object \n",
      " 2   buildstart  7663 non-null   float64\n",
      " 3   opening     9250 non-null   float64\n",
      " 4   closure     9240 non-null   float64\n",
      " 5   length      9271 non-null   int64  \n",
      " 6   city_id     9271 non-null   int64  \n",
      "dtypes: float64(3), int64(3), object(1)\n",
      "memory usage: 507.1+ KB\n",
      "None\n"
     ]
    }
   ],
   "source": [
    "df = tables[\"tracks\"]\n",
    "\n",
    "# Take a look at the head of the data\n",
    "print(df.head(5))\n",
    "print(\"\\n\")\n",
    "# Generate a metadata report\n",
    "print(df.info())"
   ]
  },
  {
   "cell_type": "markdown",
   "id": "ba7ca429",
   "metadata": {},
   "source": [
    "Another layer of analysis is needed to uncover this table. Since this table includes geometry information, it is better to turn it into a geodataframe."
   ]
  },
  {
   "cell_type": "code",
   "execution_count": 24,
   "id": "b246cba5",
   "metadata": {},
   "outputs": [
    {
     "name": "stderr",
     "output_type": "stream",
     "text": [
      "C:\\Users\\ejgen\\AppData\\Local\\Temp/ipykernel_11124/2769002287.py:2: FutureWarning: Assigning CRS to a GeoDataFrame without a geometry column is now deprecated and will not be supported in the future.\n",
      "  df = gpd.GeoDataFrame(df, crs = \"EPSG:3035\")\n"
     ]
    },
    {
     "name": "stdout",
     "output_type": "stream",
     "text": [
      "   id                                           geometry  buildstart  opening  \\\n",
      "0   1  LINESTRING (-58.37096 -34.60884, -58.37212 -34...      1911.0   1913.0   \n",
      "1   2  LINESTRING (-58.40687 -34.60978, -58.40710 -34...      1911.0   1914.0   \n",
      "2   3  LINESTRING (-58.44130 -34.62046, -58.44311 -34...      2004.0   2008.0   \n",
      "3   4  LINESTRING (-58.45669 -34.62666, -58.45791 -34...      2004.0   2013.0   \n",
      "4   5  LINESTRING (-58.45520 -34.58719, -58.45160 -34...      1928.0   1930.0   \n",
      "\n",
      "    closure  length  city_id  \n",
      "0  999999.0    3334        1  \n",
      "1       NaN    3459        1  \n",
      "2       NaN    1571        1  \n",
      "3       NaN    1272        1  \n",
      "4       NaN    6382        1  \n",
      "\n",
      "\n"
     ]
    }
   ],
   "source": [
    "# Convert df into a GeoDataFrame\n",
    "df = gpd.GeoDataFrame(df, crs = \"EPSG:3035\")\n",
    "df.geometry = df[\"geometry\"].apply(loads)\n",
    "print(df.head(5))\n",
    "print(\"\\n\")"
   ]
  },
  {
   "cell_type": "code",
   "execution_count": 25,
   "id": "f3110534",
   "metadata": {},
   "outputs": [
    {
     "name": "stdout",
     "output_type": "stream",
     "text": [
      "EPSG:3035\n",
      "\n",
      "\n",
      "0       LINESTRING (-58.37096 -34.60884, -58.37212 -34...\n",
      "1       LINESTRING (-58.40687 -34.60978, -58.40710 -34...\n",
      "2       LINESTRING (-58.44130 -34.62046, -58.44311 -34...\n",
      "3       LINESTRING (-58.45669 -34.62666, -58.45791 -34...\n",
      "4       LINESTRING (-58.45520 -34.58719, -58.45160 -34...\n",
      "                              ...                        \n",
      "9266    LINESTRING (136.19464 35.11437, 136.19382 35.1...\n",
      "9267    LINESTRING (136.26367 35.27216, 136.26411 35.2...\n",
      "9268    LINESTRING (136.21952 35.01229, 136.21950 35.0...\n",
      "9269    LINESTRING (136.26071 35.23662, 136.26111 35.2...\n",
      "9270    LINESTRING (136.15392 34.95203, 136.15580 34.9...\n",
      "Name: geometry, Length: 9271, dtype: geometry\n",
      "\n",
      "\n"
     ]
    },
    {
     "data": {
      "image/svg+xml": "<svg xmlns=\"http://www.w3.org/2000/svg\" xmlns:xlink=\"http://www.w3.org/1999/xlink\" width=\"100.0\" height=\"100.0\" viewBox=\"-99.15502093181172 19.41202688542168 0.01350517721314759 0.04472140392503832\" preserveAspectRatio=\"xMinYMin meet\"><g transform=\"matrix(1,0,0,-1,0,38.8687751747684)\"><polyline fill=\"none\" stroke=\"#66cc99\" stroke-width=\"0.0008944280785007663\" points=\"-99.1431721028921,19.4550919410532 -99.1436225308395,19.4517338388489 -99.1451365798278,19.444942285522 -99.1469111680932,19.4373944542094 -99.1489541106112,19.4271383744398 -99.1503833385218,19.4194720543619 -99.1509400109762,19.4151237031547 -99.1509928788991,19.4149407258745 -99.1510993987358,19.4148278114728 -99.1512587864956,19.4147265390492 -99.1533645835182,19.4136832337152\" opacity=\"0.8\" /></g></svg>",
      "text/plain": [
       "<shapely.geometry.linestring.LineString at 0x1e58ca97e20>"
      ]
     },
     "execution_count": 25,
     "metadata": {},
     "output_type": "execute_result"
    }
   ],
   "source": [
    "# Does it have CRS encoded?\n",
    "print(df.crs)\n",
    "print(\"\\n\")\n",
    "# What about a geometry?\n",
    "print(df.geometry)\n",
    "print(\"\\n\")\n",
    "# Plot one line to see if it works\n",
    "df[\"geometry\"][50]"
   ]
  },
  {
   "cell_type": "markdown",
   "id": "c6d69e1e",
   "metadata": {},
   "source": [
    "#### Table purpose and explanation\n",
    "\n",
    "This table serves as a table that represents the \"tracks\" entity. A track is a specific subset of a line. Each line is made up of many tracks. You can connect individual lines with their tracks using the 'lines', 'tracks' and 'tracks_lines' tables. The table has one primary key ('id' column) and a foreign key ('city_id' column). The foreign key links to the 'cities' table. The 'geometry' column is also of crucial importance because it includes geometry information about a track in form of linestring.\n",
    "\n",
    "#### Summary\n",
    "\n",
    "The table has seven columns and 9271 rows in total. The most crucial columns ('id', 'geometry', 'length' and 'city_id' columns) have no null values whereas the other columns do have some null values.\n",
    "\n",
    "#### Potential problems\n",
    "\n",
    "- The columns 'buildstart', 'opening' and 'closure' incorrectly show up as 'float64' data types. They are also encoded as such in the database. Converting these into YEAR or DATETIME values would be better.\n",
    "\n",
    "- The 'geometry' column shows up as 'object' type in Pandas. It is also encoded as text in the database. Since it represents a geometry, it should be encoded as such."
   ]
  },
  {
   "cell_type": "markdown",
   "id": "52e1d0d5",
   "metadata": {},
   "source": [
    "### 'id' column"
   ]
  },
  {
   "cell_type": "code",
   "execution_count": 26,
   "id": "22fef4cf",
   "metadata": {},
   "outputs": [
    {
     "name": "stdout",
     "output_type": "stream",
     "text": [
      "1 10534\n",
      "\n",
      "\n",
      "9271\n",
      "\n",
      "\n",
      "1        1\n",
      "7211     1\n",
      "7157     1\n",
      "7158     1\n",
      "7159     1\n",
      "        ..\n",
      "3478     1\n",
      "3479     1\n",
      "3480     1\n",
      "3481     1\n",
      "10534    1\n",
      "Name: id, Length: 9271, dtype: int64\n"
     ]
    }
   ],
   "source": [
    "target_col = df[\"id\"]\n",
    "\n",
    "# Check the min and max values\n",
    "print(target_col.min(), target_col.max())\n",
    "print(\"\\n\")\n",
    "\n",
    "# Look at how many unique values there are and how many times they appear\n",
    "print(target_col.nunique())\n",
    "print(\"\\n\")\n",
    "print(target_col.value_counts())"
   ]
  },
  {
   "cell_type": "markdown",
   "id": "d3dd65d1",
   "metadata": {},
   "source": [
    "#### Column purpose and explanation\n",
    "\n",
    "This column serves as the primary key of the 'tracks' table.\n",
    "\n",
    "#### Summary\n",
    "\n",
    "As expected, there as as many unique values as there are values in the series.\n",
    "\n",
    "#### Potential problems\n",
    "\n",
    "No potential problems found."
   ]
  },
  {
   "cell_type": "markdown",
   "id": "5465acbd",
   "metadata": {},
   "source": [
    "### 'geometry' column"
   ]
  },
  {
   "cell_type": "code",
   "execution_count": 27,
   "id": "141b804b",
   "metadata": {},
   "outputs": [
    {
     "name": "stdout",
     "output_type": "stream",
     "text": [
      "0.0 1.572434750932568\n",
      "\n",
      "\n",
      "   length-orig  length-calc\n",
      "0         3334     0.036210\n",
      "1         3459     0.036721\n",
      "2         1571     0.016599\n",
      "3         1272     0.013582\n",
      "4         6382     0.067544\n",
      "\n",
      "\n"
     ]
    }
   ],
   "source": [
    "target_col = df.geometry\n",
    "\n",
    "# Check the min line length and max line length\n",
    "min = (df.geometry.length).min()\n",
    "max = (df.geometry.length).max()\n",
    "print(min, max)\n",
    "print(\"\\n\")\n",
    "# There seems to be a problem. Let's skip ahead and compare this with the \"length\" columns\n",
    "length_comp = pd.DataFrame({\"length-orig\": df[\"length\"],\n",
    "                            \"length-calc\": df.geometry.length})\n",
    "print(length_comp.head())\n",
    "print(\"\\n\")\n",
    "# The lengths don't match. This is most possibly due to a CRS fuckup."
   ]
  },
  {
   "cell_type": "markdown",
   "id": "56b340ce",
   "metadata": {},
   "source": [
    "#### Column purpose and explanation\n",
    "\n",
    "This column contains the information about the actual geometry of the tracks. It can be used alongside GeoPandas to plot the lines.\n",
    "\n",
    "#### Summary\n",
    "\n",
    "I couldn't find a suitable CRS that would give me the lengths as stated by the 'length' column.\n",
    "\n",
    "#### Potential problems\n",
    "\n",
    "- The length as calculated through playing with the geometries and the length as stated by the 'length' column may not match."
   ]
  },
  {
   "cell_type": "markdown",
   "id": "9371c29d",
   "metadata": {},
   "source": [
    "### 'buildstart' column"
   ]
  },
  {
   "cell_type": "code",
   "execution_count": 28,
   "id": "4b4f544c",
   "metadata": {},
   "outputs": [
    {
     "name": "stdout",
     "output_type": "stream",
     "text": [
      "-1.0 999999.0\n",
      "\n",
      "\n"
     ]
    }
   ],
   "source": [
    "target_col = (df[\"buildstart\"])\n",
    "\n",
    "# Get the 'min' value and the 'max' value\n",
    "print(target_col.min(), target_col.max())\n",
    "print(\"\\n\")\n",
    "# The 'min' value and the 'max' value seem to problematic. -1 is not a valid date, neither is 9999999 yet."
   ]
  },
  {
   "cell_type": "code",
   "execution_count": 29,
   "id": "9d57bcee",
   "metadata": {},
   "outputs": [
    {
     "name": "stdout",
     "output_type": "stream",
     "text": [
      "3197   -1.0\n",
      "6790   -1.0\n",
      "4561    0.0\n",
      "7136    0.0\n",
      "7135    0.0\n",
      "7134    0.0\n",
      "7133    0.0\n",
      "7132    0.0\n",
      "7131    0.0\n",
      "7130    0.0\n",
      "Name: buildstart, dtype: float64\n",
      "\n",
      "\n",
      "2392    999999.0\n",
      "2393    999999.0\n",
      "908     999999.0\n",
      "1601    999999.0\n",
      "1602    999999.0\n",
      "901     999999.0\n",
      "899     999999.0\n",
      "1174     19160.0\n",
      "7997      2025.0\n",
      "3316      2023.0\n",
      "Name: buildstart, dtype: float64\n",
      "\n",
      "\n"
     ]
    }
   ],
   "source": [
    "target_col = target_col.sort_values(ascending = True)\n",
    "print(target_col.head(10)) # -1 and 0 aren't valid dates\n",
    "print(\"\\n\")\n",
    "\n",
    "target_col = target_col.sort_values(ascending = False)\n",
    "print(target_col.head(10)) # 99999.. and 19160 aren't valid dates. Also 2025 and 2023?\n",
    "print(\"\\n\")"
   ]
  },
  {
   "cell_type": "code",
   "execution_count": 30,
   "id": "0c08376c",
   "metadata": {},
   "outputs": [
    {
     "name": "stdout",
     "output_type": "stream",
     "text": [
      "193\n",
      "\n",
      "\n",
      "0.0        3107\n",
      "2011.0      184\n",
      "2009.0      174\n",
      "2010.0      138\n",
      "2000.0      109\n",
      "           ... \n",
      "1947.0        1\n",
      "1851.0        1\n",
      "19160.0       1\n",
      "2023.0        1\n",
      "2025.0        1\n",
      "Name: buildstart, Length: 193, dtype: int64\n",
      "\n",
      "\n"
     ]
    }
   ],
   "source": [
    "# Get the number of unique values and what they are\n",
    "print(target_col.nunique()) # 193 values make sense since the years ought to repeat\n",
    "print(\"\\n\")\n",
    "print(target_col.value_counts()) # Here's a big problem: 0.0 repeats a lot of times. Should be null. Also 2025 and 19160?\n",
    "print(\"\\n\")"
   ]
  },
  {
   "cell_type": "markdown",
   "id": "0d25dcd5",
   "metadata": {},
   "source": [
    "#### Column purpose and explanation\n",
    "\n",
    "This column serves to give information about the date on which the building efforts for a track started.\n",
    "\n",
    "#### Summary\n",
    "\n",
    "There seems to be a lot of noise in this dataset. Most of the datapoints have the correct values (in between 1850 and 202n). However, some data points have absurd values.\n",
    "\n",
    "#### Potential problems\n",
    "\n",
    "- The data type of this column should be YEAR, not float.\n",
    "- The minimum value and the maximum values are nonsensical. There is -1, 0, 19160 and 999....\n",
    "- Some dates are probable, but not reached yet: 2023, 2025.\n",
    "- Null values are encoded in different ways: as 9999, as 0 and as -1."
   ]
  },
  {
   "cell_type": "markdown",
   "id": "ed8c382d",
   "metadata": {},
   "source": [
    "### 'opening' column"
   ]
  },
  {
   "cell_type": "code",
   "execution_count": 31,
   "id": "17226935",
   "metadata": {},
   "outputs": [
    {
     "name": "stdout",
     "output_type": "stream",
     "text": [
      "0.0 999999.0\n"
     ]
    }
   ],
   "source": [
    "target_col = (df[\"opening\"])\n",
    "\n",
    "# Get the 'min' value and the 'max' value\n",
    "print(target_col.min(), target_col.max())\n",
    "# The 'min' value and the 'max' value seem to problematic. 0 is not a valid date, neither is 9999999 yet."
   ]
  },
  {
   "cell_type": "code",
   "execution_count": 32,
   "id": "f6546d03",
   "metadata": {},
   "outputs": [
    {
     "name": "stdout",
     "output_type": "stream",
     "text": [
      "4637    0.0\n",
      "7241    0.0\n",
      "7240    0.0\n",
      "7239    0.0\n",
      "7238    0.0\n",
      "7237    0.0\n",
      "7236    0.0\n",
      "7235    0.0\n",
      "7234    0.0\n",
      "7233    0.0\n",
      "Name: opening, dtype: float64\n",
      "\n",
      "\n",
      "8250    999999.0\n",
      "8193    999999.0\n",
      "899     999999.0\n",
      "905     999999.0\n",
      "908     999999.0\n",
      "8261    999999.0\n",
      "5742    999999.0\n",
      "2392    999999.0\n",
      "2393    999999.0\n",
      "8264    999999.0\n",
      "Name: opening, dtype: float64\n",
      "\n",
      "\n"
     ]
    }
   ],
   "source": [
    "target_col = target_col.sort_values(ascending = True)\n",
    "print(target_col.head(10)) # 0 isn't a valid date.\n",
    "print(\"\\n\")\n",
    "\n",
    "target_col = target_col.sort_values(ascending = False)\n",
    "print(target_col.head(10)) # 99999 isn't a valid date.\n",
    "print(\"\\n\")"
   ]
  },
  {
   "cell_type": "code",
   "execution_count": 33,
   "id": "92bbfb81",
   "metadata": {},
   "outputs": [
    {
     "name": "stdout",
     "output_type": "stream",
     "text": [
      "197\n",
      "\n",
      "\n",
      "0.0        2908\n",
      "2007.0      312\n",
      "2014.0      306\n",
      "2000.0      301\n",
      "2012.0      234\n",
      "           ... \n",
      "99999.0       1\n",
      "1843.0        1\n",
      "20008.0       1\n",
      "9999.0        1\n",
      "2027.0        1\n",
      "Name: opening, Length: 197, dtype: int64\n",
      "\n",
      "\n"
     ]
    }
   ],
   "source": [
    "print(target_col.nunique()) # 193 values make sense since the years ought to repeat\n",
    "print(\"\\n\")\n",
    "print(target_col.value_counts()) # Here's a big problem: 0.0 repeats a lot of times. Should be null. 99999 and 99999 are also invalid\n",
    "print(\"\\n\")"
   ]
  },
  {
   "cell_type": "markdown",
   "id": "a9423563",
   "metadata": {},
   "source": [
    "#### Column purpose and explanation\n",
    "\n",
    "This column serves to give information about the date on which the building efforts for a track ended.\n",
    "\n",
    "#### Summary\n",
    "\n",
    "There seems to be a lot of noise in this dataset. Most of the datapoints have the correct values (in between 1850 and 202n). However, some data points have absurd values.\n",
    "\n",
    "#### Potential problems\n",
    "\n",
    "- The data type of this column should be YEAR, not float.\n",
    "- The minimum value and the maximum values are nonsensical. There is 0, 19160 and 999....\n",
    "- Some dates are probable, but not reached yet: 2027\n",
    "- Null values are encoded in different ways: as 9999 and as 0"
   ]
  },
  {
   "cell_type": "markdown",
   "id": "a96c4480",
   "metadata": {},
   "source": [
    "### 'closure' column"
   ]
  },
  {
   "cell_type": "code",
   "execution_count": 34,
   "id": "3b97483d",
   "metadata": {},
   "outputs": [
    {
     "name": "stdout",
     "output_type": "stream",
     "text": [
      "1882.0 999999999.0\n",
      "\n",
      "\n",
      "219     1882.0\n",
      "4018    1883.0\n",
      "209     1886.0\n",
      "7222    1889.0\n",
      "7304    1889.0\n",
      "7218    1889.0\n",
      "7998    1893.0\n",
      "4201    1894.0\n",
      "4011    1894.0\n",
      "4202    1894.0\n",
      "Name: closure, dtype: float64\n",
      "\n",
      "\n",
      "924     999999999.0\n",
      "4001      9999999.0\n",
      "471        999999.0\n",
      "493        999999.0\n",
      "478        999999.0\n",
      "476        999999.0\n",
      "475        999999.0\n",
      "474        999999.0\n",
      "473        999999.0\n",
      "472        999999.0\n",
      "Name: closure, dtype: float64\n",
      "\n",
      "\n",
      "123\n",
      "\n",
      "\n",
      "999999.0     8451\n",
      "1972.0         50\n",
      "1969.0         47\n",
      "1971.0         46\n",
      "1968.0         44\n",
      "             ... \n",
      "9999999.0       1\n",
      "1960.0          1\n",
      "1957.0          1\n",
      "1927.0          1\n",
      "1882.0          1\n",
      "Name: closure, Length: 123, dtype: int64\n",
      "\n",
      "\n"
     ]
    }
   ],
   "source": [
    "target_col = (df[\"closure\"])\n",
    "\n",
    "# Get the 'min' value and the 'max' value\n",
    "print(target_col.min(), target_col.max())\n",
    "print(\"\\n\")\n",
    "# The 'min' value and the 'max' value seem to problematic. 99999 is not a valid date.\n",
    "\n",
    "target_col = target_col.sort_values(ascending = True)\n",
    "print(target_col.head(10)) # Seems OK\n",
    "print(\"\\n\")\n",
    "\n",
    "target_col = target_col.sort_values(ascending = False)\n",
    "print(target_col.head(10)) # 99999 isn't a valid date.\n",
    "print(\"\\n\")\n",
    "\n",
    "print(target_col.nunique())\n",
    "print(\"\\n\")\n",
    "print(target_col.value_counts()) # Lots of 99999999\n",
    "print(\"\\n\")\n",
    "\n"
   ]
  },
  {
   "cell_type": "markdown",
   "id": "463ba42f",
   "metadata": {},
   "source": [
    "#### Column purpose and explanation\n",
    "\n",
    "This column serves to give information about the date on which a track was closed\n",
    "\n",
    "#### Summary\n",
    "\n",
    "There seems to be a lot of noise in this dataset. Most of the datapoints have the correct values (in between 1850 and 202n). However, some data points have absurd values.\n",
    "\n",
    "#### Potential problems\n",
    "\n",
    "- The data type of this column should be YEAR, not float.\n",
    "- The maximum values are nonsensical. We have a lot of 9999's and 99999999\n",
    "- Some dates are probable, but not reached yet: 2027\n",
    "- Null values are encoded in different ways: as 9999 and as 0"
   ]
  },
  {
   "cell_type": "markdown",
   "id": "7aa58939",
   "metadata": {},
   "source": [
    "### 'length' column"
   ]
  },
  {
   "cell_type": "code",
   "execution_count": 35,
   "id": "fc001581",
   "metadata": {},
   "outputs": [
    {
     "name": "stdout",
     "output_type": "stream",
     "text": [
      "0 148768\n",
      "\n",
      "\n",
      "1267    0\n",
      "7634    0\n",
      "6653    0\n",
      "1422    0\n",
      "6403    1\n",
      "2495    1\n",
      "2492    1\n",
      "4560    1\n",
      "7709    1\n",
      "566     1\n",
      "Name: length, dtype: int64\n",
      "\n",
      "\n",
      "1267     0\n",
      "7634     0\n",
      "6653     0\n",
      "1422     0\n",
      "6403     1\n",
      "        ..\n",
      "4895    99\n",
      "6325    99\n",
      "2069    99\n",
      "2609    99\n",
      "4531    99\n",
      "Name: length, Length: 2080, dtype: int64\n",
      "\n",
      "\n",
      "4009    148768\n",
      "4302     93331\n",
      "1456     82543\n",
      "3553     77337\n",
      "8130     68082\n",
      "3994     66217\n",
      "4801     64307\n",
      "8197     62113\n",
      "3535     61770\n",
      "3316     61027\n",
      "Name: length, dtype: int64\n",
      "\n",
      "\n"
     ]
    }
   ],
   "source": [
    "target_col = df[\"length\"]\n",
    "\n",
    "# Get the min and the max\n",
    "print(target_col.min(), target_col.max()) # 0 doesn't really make sense?\n",
    "print(\"\\n\")\n",
    "\n",
    "target_col = target_col.sort_values(ascending = True)\n",
    "print(target_col.head(10)) # 0 and 1 doesn't make sense.\n",
    "print(\"\\n\")\n",
    "\n",
    "under_100_mask = target_col < 100\n",
    "print(target_col[under_100_mask]) # Lots of values under 100\n",
    "print(\"\\n\")\n",
    "\n",
    "target_col = target_col.sort_values(ascending = False)\n",
    "print(target_col.head(10)) # Seems OK\n",
    "print(\"\\n\")\n"
   ]
  },
  {
   "cell_type": "code",
   "execution_count": 36,
   "id": "e5935c34",
   "metadata": {},
   "outputs": [
    {
     "name": "stdout",
     "output_type": "stream",
     "text": [
      "3788\n",
      "\n",
      "\n",
      "21      42\n",
      "26      39\n",
      "32      39\n",
      "11      38\n",
      "19      36\n",
      "        ..\n",
      "4578     1\n",
      "4577     1\n",
      "4576     1\n",
      "4574     1\n",
      "2509     1\n",
      "Name: length, Length: 3788, dtype: int64\n",
      "\n",
      "\n"
     ]
    }
   ],
   "source": [
    "\n",
    "print(target_col.nunique())\n",
    "print(\"\\n\")\n",
    "print(target_col.value_counts()) # The number of unique values seems a little low.\n",
    "print(\"\\n\")"
   ]
  },
  {
   "cell_type": "markdown",
   "metadata": {},
   "source": [
    "#### Column purpose and explanation\n",
    "\n",
    "This column contains the length of each track in an unknown measurement type (cm? m? km?)\n",
    "\n",
    "#### Summary\n",
    "\n",
    "There seems to be a lot of noise in this dataset. Some values seems unlikely (0, 1 aswell as 148768).\n",
    "\n",
    "#### Potential problems\n",
    "\n",
    "- What is the measure of length? centimeters? kilometers?\n",
    "- The minimum values and the maximum values are nonsensical\n",
    "- Althought it initially appears as there aren't any null values, rows with the value 0 might aswell be null."
   ]
  },
  {
   "cell_type": "markdown",
   "id": "108ad0ae",
   "metadata": {},
   "source": [
    "### 'city_id' column\n",
    "\n",
    "Skipping as this column is a foreign key and possible has no problems."
   ]
  },
  {
   "cell_type": "markdown",
   "id": "c8e3c71c",
   "metadata": {},
   "source": [
    "## Analyze \"track_lines\" column"
   ]
  },
  {
   "cell_type": "markdown",
   "id": "6b5ae201",
   "metadata": {},
   "source": [
    "### Whole table"
   ]
  },
  {
   "cell_type": "code",
   "execution_count": 38,
   "id": "5faaed6c",
   "metadata": {},
   "outputs": [
    {
     "name": "stdout",
     "output_type": "stream",
     "text": [
      "   id  section_id  line_id           created_at           updated_at  city_id\n",
      "0   1        1911      530  2017-11-21 00:00:00  2017-11-21 00:00:00       29\n",
      "1   2        2563      154  2017-11-21 00:00:00  2017-11-21 00:00:00      118\n",
      "2   3        2557      154  2017-11-21 00:00:00  2017-11-21 00:00:00      118\n",
      "3   4        2558      154  2017-11-21 00:00:00  2017-11-21 00:00:00      118\n",
      "4   5        2564      154  2017-11-21 00:00:00  2017-11-21 00:00:00      118\n",
      "\n",
      "\n",
      "<class 'pandas.core.frame.DataFrame'>\n",
      "RangeIndex: 9757 entries, 0 to 9756\n",
      "Data columns (total 6 columns):\n",
      " #   Column      Non-Null Count  Dtype \n",
      "---  ------      --------------  ----- \n",
      " 0   id          9757 non-null   int64 \n",
      " 1   section_id  9757 non-null   int64 \n",
      " 2   line_id     9757 non-null   int64 \n",
      " 3   created_at  9757 non-null   object\n",
      " 4   updated_at  9757 non-null   object\n",
      " 5   city_id     9757 non-null   int64 \n",
      "dtypes: int64(4), object(2)\n",
      "memory usage: 457.5+ KB\n",
      "None\n"
     ]
    }
   ],
   "source": [
    "df = tables[\"track_lines\"]\n",
    "\n",
    "# Look at the first few lines\n",
    "print(df.head(5))\n",
    "print(\"\\n\")\n",
    "# Generate a metadata report\n",
    "print(df.info())"
   ]
  },
  {
   "cell_type": "markdown",
   "id": "409aff2f",
   "metadata": {},
   "source": [
    "#### Table purpose and explanation\n",
    "\n",
    "I have no idea what purpose this table serves. It connects through foreign keys to the 'city' and 'line' tables, but the information that it contains in itself is only the 'section_id' column which does not connect to any table.\n",
    "\n",
    "#### Summary\n",
    "\n",
    "The table has six columns and 9757 entries. There are no null values.\n",
    "\n",
    "#### Potential problems\n",
    "\n",
    "No potential problems found."
   ]
  }
 ],
 "metadata": {
  "kernelspec": {
   "display_name": "Python 3 (ipykernel)",
   "language": "python",
   "name": "python3"
  },
  "language_info": {
   "codemirror_mode": {
    "name": "ipython",
    "version": 3
   },
   "file_extension": ".py",
   "mimetype": "text/x-python",
   "name": "python",
   "nbconvert_exporter": "python",
   "pygments_lexer": "ipython3",
   "version": "3.9.7"
  }
 },
 "nbformat": 4,
 "nbformat_minor": 5
}
