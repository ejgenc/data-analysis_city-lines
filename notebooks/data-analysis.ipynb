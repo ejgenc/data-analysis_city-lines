{
 "cells": [
  {
   "cell_type": "markdown",
   "metadata": {},
   "source": [
    "# City Lines Data Analysis\n",
    "\n",
    "> This notebook was created as part of the examination requirements of \"Information Structures and Implications\" class offered by the Master of Digital Humanities programme in KU Leuven.\n",
    "\n",
    "## What's this notebook about?\n",
    "\n",
    "Often times it is thought that the complexity level of a city's transportation systems is linked to that city's level of \"development\". We want to investigate whether this widely-held belief holds true by interrogating the city lines dataset and combining it with other datasets which can inform us about human development. While doing this, we also want to uncover some less-known facts about metro systems such as dominant colors and crowdedness.\n",
    "\n",
    "The questions that we will ask are as follows: \n",
    "\n",
    "1. Is the education level of a country related to its total railway length?\n",
    "2. Is the subjective well-being of a country related to its total railway length?\n",
    "3. Is personal mobile phone ownership related to the variety of transportation modes in a country?\n",
    "4. Are freedom of speech rankings related to the variety of transportation modes in a country?\n",
    "5. Is there a relationship in between country and the time it takes to finish the construction of a railway station?\n",
    "6. Are there any “late bloomer” cities? Cities that started building up their metro system late but have quickly built up many lines and stations.\n",
    "7. What are the most “crowded” (short line, lots of stations) and the most “spacious” (long line, barely no stations) lines?\n",
    "8. What are some unique hues that nobody uses in coloring their metro lines?\n",
    "9. Is there a correlation between the age of a line and its color?\n",
    "10. What is the most popular line color for each region?"
   ]
  },
  {
   "cell_type": "markdown",
   "metadata": {},
   "source": [
    "## Code"
   ]
  },
  {
   "cell_type": "markdown",
   "metadata": {},
   "source": [
    "### Setup"
   ]
  },
  {
   "cell_type": "markdown",
   "metadata": {},
   "source": [
    "#### Import the required packages"
   ]
  },
  {
   "cell_type": "code",
   "execution_count": null,
   "metadata": {},
   "outputs": [],
   "source": [
    "from pathlib import Path\n",
    "import mysql.connector as connector"
   ]
  },
  {
   "cell_type": "markdown",
   "metadata": {},
   "source": [
    "\n",
    "#### Establish connection with the database"
   ]
  },
  {
   "cell_type": "code",
   "execution_count": null,
   "metadata": {},
   "outputs": [],
   "source": [
    "credentials = {\n",
    "    \"username\": \"root\",\n",
    "    \"password\": \"\"\n",
    "}\n",
    "conn = connector.connect(user=credentials[\"username\"],\n",
    "                         passwd=credentials[\"password\"],\n",
    "                         host=\"localhost\",\n",
    "                         database=\"city_lines\")\n",
    "cursor = conn.cursor(buffered=True)\n",
    "sql_queries = []\n",
    "\n",
    "# Config the connection & the cursor\n",
    "sql_queries.append(\"USE city_lines;\")\n",
    "sql_queries.append(\"SET GLOBAL max_allowed_packet=67108864;\")"
   ]
  },
  {
   "cell_type": "markdown",
   "metadata": {},
   "source": [
    "\n",
    "### Analysis\n"
   ]
  }
 ],
 "metadata": {
  "language_info": {
   "name": "python"
  },
  "orig_nbformat": 4
 },
 "nbformat": 4,
 "nbformat_minor": 2
}
