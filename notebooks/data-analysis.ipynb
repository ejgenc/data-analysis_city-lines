{
 "cells": [
  {
   "cell_type": "markdown",
   "metadata": {},
   "source": [
    "# City Lines Data Analysis\n",
    "\n",
    "> This notebook was created as part of the examination requirements of \"Information Structures and Implications\" class offered by the Master of Digital Humanities programme in KU Leuven.\n",
    "\n",
    "## What's this notebook about?\n",
    "\n",
    "Often times it is thought that the complexity level of a city's transportation systems is linked to that city's level of \"development\". We want to investigate whether this widely-held belief holds true by interrogating the city lines dataset and combining it with other datasets which can inform us about human development. While doing this, we also want to uncover some less-known facts about metro systems such as dominant colors and crowdedness.\n",
    "\n",
    "The questions that we will ask are as follows: \n",
    "\n",
    "1. Is the education level of a country related to its total railway length?\n",
    "2. Is the subjective well-being of a country related to its total railway length?\n",
    "3. Is personal mobile phone ownership related to the variety of transportation modes in a country?\n",
    "4. Are freedom of speech rankings related to the variety of transportation modes in a country?\n",
    "5. Is there a relationship in between country and the time it takes to finish the construction of a railway station?\n",
    "6. Are there any “late bloomer” cities? Cities that started building up their metro system late but have quickly built up many lines and stations.\n",
    "7. What are the most “crowded” (short line, lots of stations) and the most “spacious” (long line, barely no stations) lines?\n",
    "8. What are some unique hues that nobody uses in coloring their metro lines?\n",
    "9. Is there a correlation between the age of a line and its color?\n",
    "10. What is the most popular line color for each city?"
   ]
  },
  {
   "cell_type": "markdown",
   "metadata": {},
   "source": [
    "## Code"
   ]
  },
  {
   "cell_type": "markdown",
   "metadata": {},
   "source": [
    "### Setup"
   ]
  },
  {
   "cell_type": "markdown",
   "metadata": {},
   "source": [
    "#### Import the required packages"
   ]
  },
  {
   "cell_type": "code",
   "execution_count": 1,
   "metadata": {},
   "outputs": [],
   "source": [
    "from pathlib import Path\n",
    "import mysql.connector as connector\n",
    "import pandas as pd"
   ]
  },
  {
   "cell_type": "markdown",
   "metadata": {},
   "source": [
    "\n",
    "#### Establish connection with the database"
   ]
  },
  {
   "cell_type": "code",
   "execution_count": 2,
   "metadata": {},
   "outputs": [],
   "source": [
    "credentials = {\n",
    "    \"username\": \"root\",\n",
    "    \"password\": \"\"\n",
    "}\n",
    "\n",
    "conn = connector.connect(user=credentials[\"username\"],\n",
    "                         passwd=credentials[\"password\"],\n",
    "                         host=\"localhost\",\n",
    "                         database=\"city_lines\")"
   ]
  },
  {
   "cell_type": "markdown",
   "metadata": {},
   "source": [
    "\n",
    "### Analysis"
   ]
  },
  {
   "cell_type": "markdown",
   "metadata": {},
   "source": [
    "#### Question four\n",
    "\n",
    "> ***Is there a correlation between the age of a line and its color?***"
   ]
  },
  {
   "cell_type": "markdown",
   "metadata": {},
   "source": [
    "##### English explanation\n",
    "\n",
    "###### SQL explanation\n",
    "\n",
    "Join the 'lines' table with the 'stations' table through the 'station_lines' table. Group first by line_id, then by line age. Select line id's and line colors. Calculate the line age for each line and station combination by substracting from the current date the station opening date. Also convert the hexcode color value into separate red, green and blue values in integer format. Order by line_id in ascending, and then by line age descending.\n",
    "\n",
    "###### Python explanation\n",
    "\n",
    "\n"
   ]
  },
  {
   "cell_type": "markdown",
   "metadata": {},
   "source": [
    "##### Code"
   ]
  },
  {
   "cell_type": "code",
   "execution_count": 3,
   "metadata": {},
   "outputs": [
    {
     "data": {
      "text/html": [
       "<div>\n",
       "<style scoped>\n",
       "    .dataframe tbody tr th:only-of-type {\n",
       "        vertical-align: middle;\n",
       "    }\n",
       "\n",
       "    .dataframe tbody tr th {\n",
       "        vertical-align: top;\n",
       "    }\n",
       "\n",
       "    .dataframe thead th {\n",
       "        text-align: right;\n",
       "    }\n",
       "</style>\n",
       "<table border=\"1\" class=\"dataframe\">\n",
       "  <thead>\n",
       "    <tr style=\"text-align: right;\">\n",
       "      <th></th>\n",
       "      <th>line_id</th>\n",
       "      <th>line_color</th>\n",
       "      <th>r_value</th>\n",
       "      <th>g_value</th>\n",
       "      <th>b_value</th>\n",
       "      <th>age</th>\n",
       "    </tr>\n",
       "  </thead>\n",
       "  <tbody>\n",
       "    <tr>\n",
       "      <th>2477</th>\n",
       "      <td>942</td>\n",
       "      <td>#c0cd30</td>\n",
       "      <td>192</td>\n",
       "      <td>205</td>\n",
       "      <td>205</td>\n",
       "      <td>2021.0</td>\n",
       "    </tr>\n",
       "    <tr>\n",
       "      <th>1775</th>\n",
       "      <td>560</td>\n",
       "      <td>#276cd9</td>\n",
       "      <td>39</td>\n",
       "      <td>108</td>\n",
       "      <td>108</td>\n",
       "      <td>2021.0</td>\n",
       "    </tr>\n",
       "    <tr>\n",
       "      <th>1838</th>\n",
       "      <td>591</td>\n",
       "      <td>#000</td>\n",
       "      <td>0</td>\n",
       "      <td>0</td>\n",
       "      <td>0</td>\n",
       "      <td>2021.0</td>\n",
       "    </tr>\n",
       "    <tr>\n",
       "      <th>1837</th>\n",
       "      <td>590</td>\n",
       "      <td>#000</td>\n",
       "      <td>0</td>\n",
       "      <td>0</td>\n",
       "      <td>0</td>\n",
       "      <td>2021.0</td>\n",
       "    </tr>\n",
       "    <tr>\n",
       "      <th>1830</th>\n",
       "      <td>583</td>\n",
       "      <td>#883f98</td>\n",
       "      <td>136</td>\n",
       "      <td>63</td>\n",
       "      <td>63</td>\n",
       "      <td>2021.0</td>\n",
       "    </tr>\n",
       "    <tr>\n",
       "      <th>...</th>\n",
       "      <td>...</td>\n",
       "      <td>...</td>\n",
       "      <td>...</td>\n",
       "      <td>...</td>\n",
       "      <td>...</td>\n",
       "      <td>...</td>\n",
       "    </tr>\n",
       "    <tr>\n",
       "      <th>856</th>\n",
       "      <td>274</td>\n",
       "      <td>#fc921c</td>\n",
       "      <td>252</td>\n",
       "      <td>146</td>\n",
       "      <td>146</td>\n",
       "      <td>-997978.0</td>\n",
       "    </tr>\n",
       "    <tr>\n",
       "      <th>2346</th>\n",
       "      <td>864</td>\n",
       "      <td>#f33043</td>\n",
       "      <td>243</td>\n",
       "      <td>48</td>\n",
       "      <td>48</td>\n",
       "      <td>-997978.0</td>\n",
       "    </tr>\n",
       "    <tr>\n",
       "      <th>93</th>\n",
       "      <td>62</td>\n",
       "      <td>#ffbc2d</td>\n",
       "      <td>255</td>\n",
       "      <td>188</td>\n",
       "      <td>188</td>\n",
       "      <td>-997978.0</td>\n",
       "    </tr>\n",
       "    <tr>\n",
       "      <th>858</th>\n",
       "      <td>275</td>\n",
       "      <td>#ff8000</td>\n",
       "      <td>255</td>\n",
       "      <td>128</td>\n",
       "      <td>128</td>\n",
       "      <td>-997978.0</td>\n",
       "    </tr>\n",
       "    <tr>\n",
       "      <th>2596</th>\n",
       "      <td>1018</td>\n",
       "      <td>#f33043</td>\n",
       "      <td>243</td>\n",
       "      <td>48</td>\n",
       "      <td>48</td>\n",
       "      <td>-997978.0</td>\n",
       "    </tr>\n",
       "  </tbody>\n",
       "</table>\n",
       "<p>1018 rows × 6 columns</p>\n",
       "</div>"
      ],
      "text/plain": [
       "      line_id line_color  r_value  g_value  b_value       age\n",
       "2477      942    #c0cd30      192      205      205    2021.0\n",
       "1775      560    #276cd9       39      108      108    2021.0\n",
       "1838      591       #000        0        0        0    2021.0\n",
       "1837      590       #000        0        0        0    2021.0\n",
       "1830      583    #883f98      136       63       63    2021.0\n",
       "...       ...        ...      ...      ...      ...       ...\n",
       "856       274    #fc921c      252      146      146 -997978.0\n",
       "2346      864    #f33043      243       48       48 -997978.0\n",
       "93         62    #ffbc2d      255      188      188 -997978.0\n",
       "858       275    #ff8000      255      128      128 -997978.0\n",
       "2596     1018    #f33043      243       48       48 -997978.0\n",
       "\n",
       "[1018 rows x 6 columns]"
      ]
     },
     "execution_count": 3,
     "metadata": {},
     "output_type": "execute_result"
    }
   ],
   "source": [
    "sql_query = \"\"\"\n",
    "SELECT l.id AS line_id,\n",
    "       l.color AS line_color,\n",
    "       CONV(SUBSTRING(l.color, 2, 2), 16, 10) AS r_value,\n",
    "       CONV(SUBSTRING(l.color, 4, 2), 16, 10) AS g_value,\n",
    "       CONV(SUBSTRING(l.color, 4, 2), 16, 10) AS b_value,\n",
    "      (2021 - s.opening) AS age\n",
    "  FROM `lines` l\n",
    "        JOIN station_lines sl ON (sl.line_id = l.id)\n",
    "        JOIN stations s ON (s.id = sl.station_id )\n",
    " GROUP BY line_id, age\n",
    " ORDER BY line_id ASC, age DESC;\n",
    "\"\"\"\n",
    "\n",
    "result = pd.read_sql(sql_query, conn)\n",
    "\n",
    "# The result needs further processing\n",
    "max_mask = result.groupby(\"line_id\")[\"age\"].transform(max) == result[\"age\"]\n",
    "result = (result.loc[max_mask, :]\n",
    "          .sort_values(\"age\", ascending=False))\n",
    "result.loc[:, [\"r_value\", \"g_value\", \"b_value\"]] = result.loc[:, [\"r_value\", \"g_value\", \"b_value\"]].astype(int)\n",
    "result\n"
   ]
  },
  {
   "cell_type": "markdown",
   "metadata": {},
   "source": [
    "##### Interpretation of results"
   ]
  },
  {
   "cell_type": "markdown",
   "metadata": {},
   "source": [
    "#### Question ten\n",
    "\n",
    "> ***What is the most popular line color for each country?***"
   ]
  },
  {
   "cell_type": "markdown",
   "metadata": {},
   "source": [
    "##### English explanation\n",
    "\n",
    "###### SQL explanation\n",
    "Select each country from the cities table that appear more than twice in the \"lines\" table. This is a proxy for countries that have more than one transportation line logged into the database. Select color of the each line to represent the lines. Group by country first, then by color. Calculate how many times each color occurs within its country group, name this as \"occurence_count\"\n",
    "\n",
    "###### Python explanation\n",
    "We read the SQL table we get into a dataframe. To make our dataframe more intelligible, we first convert \"occurence_count\" to a percentage. Then we filter the dataframe to get only the most recurring color.\n",
    "In the end, we have a dataframe of countries, their most popular line color and its occurence percentage."
   ]
  },
  {
   "cell_type": "markdown",
   "metadata": {},
   "source": [
    "##### Code"
   ]
  },
  {
   "cell_type": "code",
   "execution_count": 4,
   "metadata": {},
   "outputs": [
    {
     "data": {
      "text/plain": [
       "0     42.857143\n",
       "1     48.888889\n",
       "2     55.000000\n",
       "3     13.636364\n",
       "4     13.636364\n",
       "        ...    \n",
       "75    33.333333\n",
       "76    12.000000\n",
       "77    25.000000\n",
       "78    25.000000\n",
       "79     7.746479\n",
       "Name: occurence_perc, Length: 80, dtype: float64"
      ]
     },
     "execution_count": 4,
     "metadata": {},
     "output_type": "execute_result"
    }
   ],
   "source": [
    "sql_query = \"\"\"\n",
    "SELECT x.country, z.color, COUNT(z.color) AS occurence_count\n",
    "  FROM (SELECT c.country, COUNT(c.country)\n",
    "          FROM cities c\n",
    "               JOIN `lines` l ON (c.id = l.city_id)\n",
    "         GROUP BY c.country\n",
    "         HAVING COUNT(c.country) > 2) x\n",
    "        JOIN cities y ON (x.country = y.country)\n",
    "        JOIN `lines` z on (y.id = z.city_id)\n",
    " GROUP BY x.country, z.color\n",
    " ORDER BY x.country ASC, occurence_count DESC;\n",
    "\"\"\"\n",
    "\n",
    "result = pd.read_sql(sql_query, conn)\n",
    "\n",
    "# The result needs further processing\n",
    "perc = (result.groupby([\"country\"])[\"occurence_count\"].max()\n",
    "        / result.groupby([\"country\"])[\"occurence_count\"].sum()*100) # Get the percentage versions\n",
    "perc = pd.DataFrame(perc).reset_index()\n",
    "max_mask = result.groupby(\"country\")[\"occurence_count\"].transform(max) == result[\"occurence_count\"] # Select the max only\n",
    "result = (result.loc[max_mask, :]\n",
    "          .sort_values(\"country\", ascending=True))\n",
    "result = pd.merge(result, perc, on=\"country\")\n",
    "result = (result\n",
    "          .drop(\"occurence_count_x\", axis=1)\n",
    "          .rename({\"occurence_count_y\": \"occurence_perc\"}, axis=1)\n",
    "          [\"occurence_perc\"])\n",
    "result\n"
   ]
  },
  {
   "cell_type": "markdown",
   "metadata": {},
   "source": [
    "##### Interpretation of results\n",
    "\n",
    "Since we are dealing with color, it does not make sense to talk without visualizing the results first."
   ]
  }
 ],
 "metadata": {
  "interpreter": {
   "hash": "28d0f94507bca7c1bccef7705f18a7a0c435d7c5df388fbd7750b349a6211cf5"
  },
  "kernelspec": {
   "display_name": "Python 3.9.7 64-bit ('city-lines-env': conda)",
   "language": "python",
   "name": "python3"
  },
  "language_info": {
   "codemirror_mode": {
    "name": "ipython",
    "version": 3
   },
   "file_extension": ".py",
   "mimetype": "text/x-python",
   "name": "python",
   "nbconvert_exporter": "python",
   "pygments_lexer": "ipython3",
   "version": "3.9.7"
  },
  "orig_nbformat": 4
 },
 "nbformat": 4,
 "nbformat_minor": 2
}
